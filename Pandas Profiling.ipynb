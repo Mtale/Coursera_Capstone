{
 "cells": [
  {
   "cell_type": "markdown",
   "metadata": {},
   "source": [
    "# Pandas profiling"
   ]
  },
  {
   "cell_type": "code",
   "execution_count": 1,
   "metadata": {},
   "outputs": [],
   "source": [
    "from pandas_profiling import ProfileReport\n",
    "import pandas as pd"
   ]
  },
  {
   "cell_type": "markdown",
   "metadata": {},
   "source": [
    "## Read dataset"
   ]
  },
  {
   "cell_type": "code",
   "execution_count": 2,
   "metadata": {},
   "outputs": [],
   "source": [
    "filename = 'Biergarten_data_for_analysis.csv'\n",
    "df = pd.read_csv(filename, sep=';')"
   ]
  },
  {
   "cell_type": "code",
   "execution_count": 3,
   "metadata": {},
   "outputs": [
    {
     "name": "stdout",
     "output_type": "stream",
     "text": [
      "(1278, 152)\n"
     ]
    },
    {
     "data": {
      "text/html": [
       "<div>\n",
       "<style scoped>\n",
       "    .dataframe tbody tr th:only-of-type {\n",
       "        vertical-align: middle;\n",
       "    }\n",
       "\n",
       "    .dataframe tbody tr th {\n",
       "        vertical-align: top;\n",
       "    }\n",
       "\n",
       "    .dataframe thead th {\n",
       "        text-align: right;\n",
       "    }\n",
       "</style>\n",
       "<table border=\"1\" class=\"dataframe\">\n",
       "  <thead>\n",
       "    <tr style=\"text-align: right;\">\n",
       "      <th></th>\n",
       "      <th>venue_id</th>\n",
       "      <th>venue_name</th>\n",
       "      <th>rating</th>\n",
       "      <th>likes_cnt</th>\n",
       "      <th>city</th>\n",
       "      <th>cities</th>\n",
       "      <th>time</th>\n",
       "      <th>Population on the 1st of January, 0-4 years, female</th>\n",
       "      <th>Population on the 1st of January, 0-4 years, male</th>\n",
       "      <th>Population on the 1st of January, 0-4 years, total</th>\n",
       "      <th>...</th>\n",
       "      <th>Number of private cars registered</th>\n",
       "      <th>Number of registered cars per 1000 population</th>\n",
       "      <th>People commuting into the city</th>\n",
       "      <th>People commuting out of the city</th>\n",
       "      <th>Municipal waste generated (domestic and commercial), total - 1000 t</th>\n",
       "      <th>Price of a m³ of domestic water - Euro</th>\n",
       "      <th>Share of population connected to potable drinking water system - %</th>\n",
       "      <th>Share of population connected to sewerage treatment system - %</th>\n",
       "      <th>Share of the urban waste water load (in population equivalents) treated according to the applicable standard -%</th>\n",
       "      <th>Total use of water - m³</th>\n",
       "    </tr>\n",
       "  </thead>\n",
       "  <tbody>\n",
       "    <tr>\n",
       "      <th>0</th>\n",
       "      <td>53541e32498e5522be7a5eed</td>\n",
       "      <td>Jockel Biergarten</td>\n",
       "      <td>5.6</td>\n",
       "      <td>44</td>\n",
       "      <td>Berlin</td>\n",
       "      <td>Berlin</td>\n",
       "      <td>2016</td>\n",
       "      <td>86434.0</td>\n",
       "      <td>91718.0</td>\n",
       "      <td>178152.0</td>\n",
       "      <td>...</td>\n",
       "      <td>1024876.0</td>\n",
       "      <td>291.2</td>\n",
       "      <td>295838.0</td>\n",
       "      <td>174263.0</td>\n",
       "      <td>1361.98</td>\n",
       "      <td>1.81</td>\n",
       "      <td>99.81</td>\n",
       "      <td>99.72</td>\n",
       "      <td>100.0</td>\n",
       "      <td>206000000.0</td>\n",
       "    </tr>\n",
       "    <tr>\n",
       "      <th>1</th>\n",
       "      <td>53541e32498e5522be7a5eed</td>\n",
       "      <td>Jockel Biergarten</td>\n",
       "      <td>5.6</td>\n",
       "      <td>44</td>\n",
       "      <td>Berlin</td>\n",
       "      <td>Berlin</td>\n",
       "      <td>2017</td>\n",
       "      <td>90989.0</td>\n",
       "      <td>96033.0</td>\n",
       "      <td>187022.0</td>\n",
       "      <td>...</td>\n",
       "      <td>NaN</td>\n",
       "      <td>NaN</td>\n",
       "      <td>309375.0</td>\n",
       "      <td>179977.0</td>\n",
       "      <td>1385.72</td>\n",
       "      <td>NaN</td>\n",
       "      <td>NaN</td>\n",
       "      <td>NaN</td>\n",
       "      <td>NaN</td>\n",
       "      <td>NaN</td>\n",
       "    </tr>\n",
       "    <tr>\n",
       "      <th>2</th>\n",
       "      <td>53541e32498e5522be7a5eed</td>\n",
       "      <td>Jockel Biergarten</td>\n",
       "      <td>5.6</td>\n",
       "      <td>44</td>\n",
       "      <td>Berlin</td>\n",
       "      <td>Berlin</td>\n",
       "      <td>2018</td>\n",
       "      <td>92674.0</td>\n",
       "      <td>97822.0</td>\n",
       "      <td>190496.0</td>\n",
       "      <td>...</td>\n",
       "      <td>NaN</td>\n",
       "      <td>NaN</td>\n",
       "      <td>321219.0</td>\n",
       "      <td>185723.0</td>\n",
       "      <td>NaN</td>\n",
       "      <td>NaN</td>\n",
       "      <td>NaN</td>\n",
       "      <td>NaN</td>\n",
       "      <td>NaN</td>\n",
       "      <td>NaN</td>\n",
       "    </tr>\n",
       "    <tr>\n",
       "      <th>3</th>\n",
       "      <td>4c20c6424889a593e9df2620</td>\n",
       "      <td>Haus Sanssouci</td>\n",
       "      <td>7.7</td>\n",
       "      <td>9</td>\n",
       "      <td>Berlin</td>\n",
       "      <td>Berlin</td>\n",
       "      <td>2016</td>\n",
       "      <td>86434.0</td>\n",
       "      <td>91718.0</td>\n",
       "      <td>178152.0</td>\n",
       "      <td>...</td>\n",
       "      <td>1024876.0</td>\n",
       "      <td>291.2</td>\n",
       "      <td>295838.0</td>\n",
       "      <td>174263.0</td>\n",
       "      <td>1361.98</td>\n",
       "      <td>1.81</td>\n",
       "      <td>99.81</td>\n",
       "      <td>99.72</td>\n",
       "      <td>100.0</td>\n",
       "      <td>206000000.0</td>\n",
       "    </tr>\n",
       "    <tr>\n",
       "      <th>4</th>\n",
       "      <td>4c20c6424889a593e9df2620</td>\n",
       "      <td>Haus Sanssouci</td>\n",
       "      <td>7.7</td>\n",
       "      <td>9</td>\n",
       "      <td>Berlin</td>\n",
       "      <td>Berlin</td>\n",
       "      <td>2017</td>\n",
       "      <td>90989.0</td>\n",
       "      <td>96033.0</td>\n",
       "      <td>187022.0</td>\n",
       "      <td>...</td>\n",
       "      <td>NaN</td>\n",
       "      <td>NaN</td>\n",
       "      <td>309375.0</td>\n",
       "      <td>179977.0</td>\n",
       "      <td>1385.72</td>\n",
       "      <td>NaN</td>\n",
       "      <td>NaN</td>\n",
       "      <td>NaN</td>\n",
       "      <td>NaN</td>\n",
       "      <td>NaN</td>\n",
       "    </tr>\n",
       "  </tbody>\n",
       "</table>\n",
       "<p>5 rows × 152 columns</p>\n",
       "</div>"
      ],
      "text/plain": [
       "                   venue_id         venue_name  rating  likes_cnt    city  \\\n",
       "0  53541e32498e5522be7a5eed  Jockel Biergarten     5.6         44  Berlin   \n",
       "1  53541e32498e5522be7a5eed  Jockel Biergarten     5.6         44  Berlin   \n",
       "2  53541e32498e5522be7a5eed  Jockel Biergarten     5.6         44  Berlin   \n",
       "3  4c20c6424889a593e9df2620     Haus Sanssouci     7.7          9  Berlin   \n",
       "4  4c20c6424889a593e9df2620     Haus Sanssouci     7.7          9  Berlin   \n",
       "\n",
       "   cities  time  Population on the 1st of January, 0-4 years, female  \\\n",
       "0  Berlin  2016                                            86434.0     \n",
       "1  Berlin  2017                                            90989.0     \n",
       "2  Berlin  2018                                            92674.0     \n",
       "3  Berlin  2016                                            86434.0     \n",
       "4  Berlin  2017                                            90989.0     \n",
       "\n",
       "   Population on the 1st of January, 0-4 years, male  \\\n",
       "0                                            91718.0   \n",
       "1                                            96033.0   \n",
       "2                                            97822.0   \n",
       "3                                            91718.0   \n",
       "4                                            96033.0   \n",
       "\n",
       "   Population on the 1st of January, 0-4 years, total  ...  \\\n",
       "0                                           178152.0   ...   \n",
       "1                                           187022.0   ...   \n",
       "2                                           190496.0   ...   \n",
       "3                                           178152.0   ...   \n",
       "4                                           187022.0   ...   \n",
       "\n",
       "   Number of private cars registered  \\\n",
       "0                          1024876.0   \n",
       "1                                NaN   \n",
       "2                                NaN   \n",
       "3                          1024876.0   \n",
       "4                                NaN   \n",
       "\n",
       "   Number of registered cars per 1000 population  \\\n",
       "0                                          291.2   \n",
       "1                                            NaN   \n",
       "2                                            NaN   \n",
       "3                                          291.2   \n",
       "4                                            NaN   \n",
       "\n",
       "   People commuting into the city  People commuting out of the city  \\\n",
       "0                        295838.0                          174263.0   \n",
       "1                        309375.0                          179977.0   \n",
       "2                        321219.0                          185723.0   \n",
       "3                        295838.0                          174263.0   \n",
       "4                        309375.0                          179977.0   \n",
       "\n",
       "   Municipal waste generated (domestic and commercial), total - 1000 t  \\\n",
       "0                                            1361.98                     \n",
       "1                                            1385.72                     \n",
       "2                                                NaN                     \n",
       "3                                            1361.98                     \n",
       "4                                            1385.72                     \n",
       "\n",
       "   Price of a m³ of domestic water - Euro  \\\n",
       "0                                    1.81   \n",
       "1                                     NaN   \n",
       "2                                     NaN   \n",
       "3                                    1.81   \n",
       "4                                     NaN   \n",
       "\n",
       "   Share of population connected to potable drinking water system - %  \\\n",
       "0                                              99.81                    \n",
       "1                                                NaN                    \n",
       "2                                                NaN                    \n",
       "3                                              99.81                    \n",
       "4                                                NaN                    \n",
       "\n",
       "   Share of population connected to sewerage treatment system - %  \\\n",
       "0                                              99.72                \n",
       "1                                                NaN                \n",
       "2                                                NaN                \n",
       "3                                              99.72                \n",
       "4                                                NaN                \n",
       "\n",
       "   Share of the urban waste water load (in population equivalents) treated according to the applicable standard -%  \\\n",
       "0                                              100.0                                                                 \n",
       "1                                                NaN                                                                 \n",
       "2                                                NaN                                                                 \n",
       "3                                              100.0                                                                 \n",
       "4                                                NaN                                                                 \n",
       "\n",
       "   Total use of water - m³  \n",
       "0              206000000.0  \n",
       "1                      NaN  \n",
       "2                      NaN  \n",
       "3              206000000.0  \n",
       "4                      NaN  \n",
       "\n",
       "[5 rows x 152 columns]"
      ]
     },
     "execution_count": 3,
     "metadata": {},
     "output_type": "execute_result"
    }
   ],
   "source": [
    "print(df.shape)\n",
    "df.head()"
   ]
  },
  {
   "cell_type": "code",
   "execution_count": 4,
   "metadata": {},
   "outputs": [
    {
     "data": {
      "text/plain": [
       "(1278, 148)"
      ]
     },
     "execution_count": 4,
     "metadata": {},
     "output_type": "execute_result"
    }
   ],
   "source": [
    "# Drop columns not relevant for profiling\n",
    "cols_to_drop = ['venue_id', 'venue_name', 'cities', 'time']\n",
    "df_profiling = df.drop(cols_to_drop, axis=1)\n",
    "df_profiling.shape"
   ]
  },
  {
   "cell_type": "markdown",
   "metadata": {},
   "source": [
    "## Profile dataset"
   ]
  },
  {
   "cell_type": "code",
   "execution_count": 5,
   "metadata": {},
   "outputs": [
    {
     "data": {
      "application/vnd.jupyter.widget-view+json": {
       "model_id": "184dd6cf03d447b3b0e17169a656f060",
       "version_major": 2,
       "version_minor": 0
      },
      "text/plain": [
       "HBox(children=(FloatProgress(value=0.0, description='variables', max=148.0, style=ProgressStyle(description_wi…"
      ]
     },
     "metadata": {},
     "output_type": "display_data"
    },
    {
     "name": "stdout",
     "output_type": "stream",
     "text": [
      "\n"
     ]
    },
    {
     "data": {
      "application/vnd.jupyter.widget-view+json": {
       "model_id": "90a13bc56ff646838ed91075ac5cb1fe",
       "version_major": 2,
       "version_minor": 0
      },
      "text/plain": [
       "HBox(children=(FloatProgress(value=0.0, description='correlations', max=6.0, style=ProgressStyle(description_w…"
      ]
     },
     "metadata": {},
     "output_type": "display_data"
    },
    {
     "name": "stdout",
     "output_type": "stream",
     "text": [
      "\n"
     ]
    },
    {
     "data": {
      "application/vnd.jupyter.widget-view+json": {
       "model_id": "8eacb58598f2465699e7479f943c2507",
       "version_major": 2,
       "version_minor": 0
      },
      "text/plain": [
       "HBox(children=(FloatProgress(value=0.0, description='interactions [continuous]', max=21025.0, style=ProgressSt…"
      ]
     },
     "metadata": {},
     "output_type": "display_data"
    },
    {
     "name": "stdout",
     "output_type": "stream",
     "text": [
      "\n"
     ]
    },
    {
     "data": {
      "application/vnd.jupyter.widget-view+json": {
       "model_id": "4094f8862f224282a1bfab963f84fb06",
       "version_major": 2,
       "version_minor": 0
      },
      "text/plain": [
       "HBox(children=(FloatProgress(value=0.0, description='table', max=1.0, style=ProgressStyle(description_width='i…"
      ]
     },
     "metadata": {},
     "output_type": "display_data"
    },
    {
     "name": "stdout",
     "output_type": "stream",
     "text": [
      "\n"
     ]
    },
    {
     "data": {
      "application/vnd.jupyter.widget-view+json": {
       "model_id": "209f25c4024f47d6963fdfc19bf75a2c",
       "version_major": 2,
       "version_minor": 0
      },
      "text/plain": [
       "HBox(children=(FloatProgress(value=0.0, description='missing', max=4.0, style=ProgressStyle(description_width=…"
      ]
     },
     "metadata": {},
     "output_type": "display_data"
    },
    {
     "name": "stdout",
     "output_type": "stream",
     "text": [
      "\n"
     ]
    },
    {
     "data": {
      "application/vnd.jupyter.widget-view+json": {
       "model_id": "477144a7e70240c198d1b8c59dc2589e",
       "version_major": 2,
       "version_minor": 0
      },
      "text/plain": [
       "HBox(children=(FloatProgress(value=0.0, description='warnings', max=3.0, style=ProgressStyle(description_width…"
      ]
     },
     "metadata": {},
     "output_type": "display_data"
    },
    {
     "name": "stdout",
     "output_type": "stream",
     "text": [
      "\n"
     ]
    },
    {
     "data": {
      "application/vnd.jupyter.widget-view+json": {
       "model_id": "d0b2375305934f039f1c1076040f6ac2",
       "version_major": 2,
       "version_minor": 0
      },
      "text/plain": [
       "HBox(children=(FloatProgress(value=0.0, description='package', max=1.0, style=ProgressStyle(description_width=…"
      ]
     },
     "metadata": {},
     "output_type": "display_data"
    },
    {
     "name": "stdout",
     "output_type": "stream",
     "text": [
      "\n"
     ]
    },
    {
     "data": {
      "application/vnd.jupyter.widget-view+json": {
       "model_id": "e97150b261984003adf527e1b1b9bfbb",
       "version_major": 2,
       "version_minor": 0
      },
      "text/plain": [
       "HBox(children=(FloatProgress(value=0.0, description='build report structure', max=1.0, style=ProgressStyle(des…"
      ]
     },
     "metadata": {},
     "output_type": "display_data"
    },
    {
     "name": "stdout",
     "output_type": "stream",
     "text": [
      "\n"
     ]
    }
   ],
   "source": [
    "profile = ProfileReport(df_profiling, title='Pandas Profiling Report for Biergarten_data_for_analysis.csv', \n",
    "                        html={'style':{'full_width':True}})"
   ]
  },
  {
   "cell_type": "code",
   "execution_count": 6,
   "metadata": {},
   "outputs": [
    {
     "data": {
      "application/vnd.jupyter.widget-view+json": {
       "model_id": "7a84f73ba45742448fc0078a8cf01533",
       "version_major": 2,
       "version_minor": 0
      },
      "text/plain": [
       "Tab(children=(Tab(children=(GridBox(children=(VBox(children=(GridspecLayout(children=(HTML(value='Number of va…"
      ]
     },
     "metadata": {},
     "output_type": "display_data"
    },
    {
     "data": {
      "text/html": [
       "Report generated with <a href=\"https://github.com/pandas-profiling/pandas-profiling\">pandas-profiling</a>."
      ],
      "text/plain": [
       "<IPython.core.display.HTML object>"
      ]
     },
     "metadata": {},
     "output_type": "display_data"
    }
   ],
   "source": [
    "profile.to_widgets()"
   ]
  },
  {
   "cell_type": "code",
   "execution_count": 7,
   "metadata": {},
   "outputs": [
    {
     "data": {
      "application/vnd.jupyter.widget-view+json": {
       "model_id": "fb07cf4fefc44214894d371a8fcd9270",
       "version_major": 2,
       "version_minor": 0
      },
      "text/plain": [
       "Tab(children=(Tab(children=(GridBox(children=(VBox(children=(GridspecLayout(children=(HTML(value='Number of va…"
      ]
     },
     "metadata": {},
     "output_type": "display_data"
    },
    {
     "data": {
      "text/html": [
       "Report generated with <a href=\"https://github.com/pandas-profiling/pandas-profiling\">pandas-profiling</a>."
      ],
      "text/plain": [
       "<IPython.core.display.HTML object>"
      ]
     },
     "metadata": {},
     "output_type": "display_data"
    }
   ],
   "source": [
    "profile.to_widgets()"
   ]
  }
 ],
 "metadata": {
  "kernelspec": {
   "display_name": "Python (ads-capstone)",
   "language": "python",
   "name": "ads-capstone"
  },
  "language_info": {
   "codemirror_mode": {
    "name": "ipython",
    "version": 3
   },
   "file_extension": ".py",
   "mimetype": "text/x-python",
   "name": "python",
   "nbconvert_exporter": "python",
   "pygments_lexer": "ipython3",
   "version": "3.7.6"
  }
 },
 "nbformat": 4,
 "nbformat_minor": 4
}
