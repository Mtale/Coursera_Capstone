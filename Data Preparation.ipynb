{
 "cells": [
  {
   "cell_type": "markdown",
   "metadata": {
    "Collapsed": "false"
   },
   "source": [
    "# Import Packages"
   ]
  },
  {
   "cell_type": "code",
   "execution_count": 1,
   "metadata": {
    "Collapsed": "false"
   },
   "outputs": [],
   "source": [
    "# Import public modules\n",
    "import pandas as pd\n",
    "import os\n",
    "import sys\n",
    "\n",
    "# Import custom modules\n",
    "from foursquare import foursquare as fsqr\n",
    "from openstreetmap import openstreetmap as osm\n",
    "from eurostat import germany as ger\n",
    "\n",
    "# Add path to local pwd file folder\n",
    "sys.path.insert(0, os.path.abspath(os.environ['USERPROFILE'] + '/Desktop/my_pwd'))\n",
    "import foursquare_pwd\n",
    "\n",
    "# Set foursquare credentials\n",
    "fsqr_client_id = foursquare_pwd.client_id\n",
    "fsqr_client_secret = foursquare_pwd.client_secret"
   ]
  },
  {
   "cell_type": "markdown",
   "metadata": {
    "Collapsed": "false"
   },
   "source": [
    "# Eurostat"
   ]
  },
  {
   "cell_type": "code",
   "execution_count": 45,
   "metadata": {
    "Collapsed": "false"
   },
   "outputs": [
    {
     "data": {
      "text/plain": [
       "(60, 38)"
      ]
     },
     "execution_count": 45,
     "metadata": {},
     "output_type": "execute_result"
    }
   ],
   "source": [
    "# Population_by_age_groups_and_sex\n",
    "population_by_age_groups_and_sex = ger.Population_by_age_groups_and_sex()\n",
    "population_by_age_groups_and_sex.api_query_result.shape"
   ]
  },
  {
   "cell_type": "code",
   "execution_count": 46,
   "metadata": {
    "Collapsed": "false"
   },
   "outputs": [
    {
     "data": {
      "text/plain": [
       "(60, 19)"
      ]
     },
     "execution_count": 46,
     "metadata": {},
     "output_type": "execute_result"
    }
   ],
   "source": [
    "# Population_structure\n",
    "population_structure = ger.Population_structure()\n",
    "population_structure.api_query_result.shape"
   ]
  },
  {
   "cell_type": "code",
   "execution_count": 47,
   "metadata": {
    "Collapsed": "false"
   },
   "outputs": [
    {
     "data": {
      "text/plain": [
       "(60, 16)"
      ]
     },
     "execution_count": 47,
     "metadata": {},
     "output_type": "execute_result"
    }
   ],
   "source": [
    "# Population_by_citizenship\n",
    "population_by_citizenship = ger.Population_by_citizenship()\n",
    "population_by_citizenship.api_query_result.shape"
   ]
  },
  {
   "cell_type": "code",
   "execution_count": 48,
   "metadata": {
    "Collapsed": "false"
   },
   "outputs": [
    {
     "data": {
      "text/plain": [
       "(60, 19)"
      ]
     },
     "execution_count": 48,
     "metadata": {},
     "output_type": "execute_result"
    }
   ],
   "source": [
    "# Living_conditions\n",
    "living_conditions = ger.Living_conditions()\n",
    "living_conditions.api_query_result.shape"
   ]
  },
  {
   "cell_type": "code",
   "execution_count": 49,
   "metadata": {
    "Collapsed": "false"
   },
   "outputs": [
    {
     "data": {
      "text/plain": [
       "(20, 6)"
      ]
     },
     "execution_count": 49,
     "metadata": {},
     "output_type": "execute_result"
    }
   ],
   "source": [
    "# Education\n",
    "education = ger.Education()\n",
    "education.api_query_result.shape"
   ]
  },
  {
   "cell_type": "code",
   "execution_count": 50,
   "metadata": {
    "Collapsed": "false"
   },
   "outputs": [
    {
     "data": {
      "text/plain": [
       "(60, 11)"
      ]
     },
     "execution_count": 50,
     "metadata": {},
     "output_type": "execute_result"
    }
   ],
   "source": [
    "# Culture_and_tourism\n",
    "culture_and_tourism = ger.Culture_and_tourism()\n",
    "culture_and_tourism.api_query_result.shape"
   ]
  },
  {
   "cell_type": "code",
   "execution_count": 51,
   "metadata": {
    "Collapsed": "false"
   },
   "outputs": [
    {
     "data": {
      "text/plain": [
       "(60, 40)"
      ]
     },
     "execution_count": 51,
     "metadata": {},
     "output_type": "execute_result"
    }
   ],
   "source": [
    "# Labour_market\n",
    "labour_market = ger.Labour_market()\n",
    "labour_market.api_query_result.shape"
   ]
  },
  {
   "cell_type": "code",
   "execution_count": 52,
   "metadata": {
    "Collapsed": "false"
   },
   "outputs": [
    {
     "data": {
      "text/plain": [
       "(60, 11)"
      ]
     },
     "execution_count": 52,
     "metadata": {},
     "output_type": "execute_result"
    }
   ],
   "source": [
    "# Transport\n",
    "transport = ger.Transport()\n",
    "transport.api_query_result.shape"
   ]
  },
  {
   "cell_type": "code",
   "execution_count": 53,
   "metadata": {
    "Collapsed": "false"
   },
   "outputs": [
    {
     "data": {
      "text/plain": [
       "(39, 8)"
      ]
     },
     "execution_count": 53,
     "metadata": {},
     "output_type": "execute_result"
    }
   ],
   "source": [
    "# Environment\n",
    "environment = ger.Environment()\n",
    "environment.api_query_result.shape"
   ]
  },
  {
   "cell_type": "markdown",
   "metadata": {
    "Collapsed": "false"
   },
   "source": [
    "## Merge Eurostat data into a single DataFrame"
   ]
  },
  {
   "cell_type": "code",
   "execution_count": 54,
   "metadata": {
    "Collapsed": "false"
   },
   "outputs": [],
   "source": [
    "eurostat_data = population_by_age_groups_and_sex.api_query_result \\\n",
    "                .merge(population_structure.api_query_result, on=['cities', 'time'], how='outer') \\\n",
    "                .merge(population_by_citizenship.api_query_result, on=['cities', 'time'], how='outer') \\\n",
    "                .merge(living_conditions.api_query_result, on=['cities', 'time'], how='outer') \\\n",
    "                .merge(education.api_query_result, on=['cities', 'time'], how='outer') \\\n",
    "                .merge(culture_and_tourism.api_query_result, on=['cities', 'time'], how='outer') \\\n",
    "                .merge(labour_market.api_query_result, on=['cities', 'time'], how='outer') \\\n",
    "                .merge(transport.api_query_result, on=['cities', 'time'], how='outer') \\\n",
    "                .merge(environment.api_query_result, on=['cities', 'time'], how='outer').drop_duplicates()"
   ]
  },
  {
   "cell_type": "code",
   "execution_count": 55,
   "metadata": {
    "Collapsed": "false"
   },
   "outputs": [
    {
     "name": "stdout",
     "output_type": "stream",
     "text": [
      "(60, 152)\n"
     ]
    },
    {
     "data": {
      "text/html": [
       "<div>\n",
       "<style scoped>\n",
       "    .dataframe tbody tr th:only-of-type {\n",
       "        vertical-align: middle;\n",
       "    }\n",
       "\n",
       "    .dataframe tbody tr th {\n",
       "        vertical-align: top;\n",
       "    }\n",
       "\n",
       "    .dataframe thead th {\n",
       "        text-align: right;\n",
       "    }\n",
       "</style>\n",
       "<table border=\"1\" class=\"dataframe\">\n",
       "  <thead>\n",
       "    <tr style=\"text-align: right;\">\n",
       "      <th></th>\n",
       "      <th>cities</th>\n",
       "      <th>time</th>\n",
       "      <th>Population on the 1st of January, 0-4 years, female</th>\n",
       "      <th>Population on the 1st of January, 0-4 years, male</th>\n",
       "      <th>Population on the 1st of January, 0-4 years, total</th>\n",
       "      <th>Population on the 1st of January, 10-14 years, female</th>\n",
       "      <th>Population on the 1st of January, 10-14 years, male</th>\n",
       "      <th>Population on the 1st of January, 10-14 years, total</th>\n",
       "      <th>Population on the 1st of January, 15-19 years, female</th>\n",
       "      <th>Population on the 1st of January, 15-19 years, male</th>\n",
       "      <th>...</th>\n",
       "      <th>Number of registered cars per 1000 population</th>\n",
       "      <th>People commuting into the city</th>\n",
       "      <th>People commuting out of the city</th>\n",
       "      <th>People killed in road accidents per 10000 pop.</th>\n",
       "      <th>Municipal waste generated (domestic and commercial), total - 1000 t</th>\n",
       "      <th>Price of a m³ of domestic water - Euro</th>\n",
       "      <th>Share of population connected to potable drinking water system - %</th>\n",
       "      <th>Share of population connected to sewerage treatment system - %</th>\n",
       "      <th>Share of the urban waste water load (in population equivalents) treated according to the applicable standard -%</th>\n",
       "      <th>Total use of water - m³</th>\n",
       "    </tr>\n",
       "  </thead>\n",
       "  <tbody>\n",
       "    <tr>\n",
       "      <th>0</th>\n",
       "      <td>Berlin</td>\n",
       "      <td>2016</td>\n",
       "      <td>86434.0</td>\n",
       "      <td>91718.0</td>\n",
       "      <td>178152.0</td>\n",
       "      <td>67609.0</td>\n",
       "      <td>71212.0</td>\n",
       "      <td>138821.0</td>\n",
       "      <td>69120.0</td>\n",
       "      <td>72707.0</td>\n",
       "      <td>...</td>\n",
       "      <td>291.2</td>\n",
       "      <td>295838.0</td>\n",
       "      <td>174263.0</td>\n",
       "      <td>0.159</td>\n",
       "      <td>1361.98</td>\n",
       "      <td>1.81</td>\n",
       "      <td>99.81</td>\n",
       "      <td>99.72</td>\n",
       "      <td>100.0</td>\n",
       "      <td>206000000.0</td>\n",
       "    </tr>\n",
       "    <tr>\n",
       "      <th>1</th>\n",
       "      <td>Berlin</td>\n",
       "      <td>2017</td>\n",
       "      <td>90989.0</td>\n",
       "      <td>96033.0</td>\n",
       "      <td>187022.0</td>\n",
       "      <td>69626.0</td>\n",
       "      <td>73565.0</td>\n",
       "      <td>143191.0</td>\n",
       "      <td>70952.0</td>\n",
       "      <td>76589.0</td>\n",
       "      <td>...</td>\n",
       "      <td>NaN</td>\n",
       "      <td>309375.0</td>\n",
       "      <td>179977.0</td>\n",
       "      <td>0.101</td>\n",
       "      <td>1385.72</td>\n",
       "      <td>NaN</td>\n",
       "      <td>NaN</td>\n",
       "      <td>NaN</td>\n",
       "      <td>NaN</td>\n",
       "      <td>NaN</td>\n",
       "    </tr>\n",
       "    <tr>\n",
       "      <th>2</th>\n",
       "      <td>Berlin</td>\n",
       "      <td>2018</td>\n",
       "      <td>92674.0</td>\n",
       "      <td>97822.0</td>\n",
       "      <td>190496.0</td>\n",
       "      <td>71497.0</td>\n",
       "      <td>75635.0</td>\n",
       "      <td>147132.0</td>\n",
       "      <td>71189.0</td>\n",
       "      <td>76087.0</td>\n",
       "      <td>...</td>\n",
       "      <td>NaN</td>\n",
       "      <td>321219.0</td>\n",
       "      <td>185723.0</td>\n",
       "      <td>0.125</td>\n",
       "      <td>NaN</td>\n",
       "      <td>NaN</td>\n",
       "      <td>NaN</td>\n",
       "      <td>NaN</td>\n",
       "      <td>NaN</td>\n",
       "      <td>NaN</td>\n",
       "    </tr>\n",
       "    <tr>\n",
       "      <th>3</th>\n",
       "      <td>Bielefeld</td>\n",
       "      <td>2016</td>\n",
       "      <td>7514.0</td>\n",
       "      <td>7906.0</td>\n",
       "      <td>15420.0</td>\n",
       "      <td>7494.0</td>\n",
       "      <td>8017.0</td>\n",
       "      <td>15511.0</td>\n",
       "      <td>8932.0</td>\n",
       "      <td>9247.0</td>\n",
       "      <td>...</td>\n",
       "      <td>427.2</td>\n",
       "      <td>64648.0</td>\n",
       "      <td>35734.0</td>\n",
       "      <td>0.270</td>\n",
       "      <td>150.47</td>\n",
       "      <td>1.85</td>\n",
       "      <td>98.35</td>\n",
       "      <td>99.85</td>\n",
       "      <td>100.0</td>\n",
       "      <td>15526000.0</td>\n",
       "    </tr>\n",
       "    <tr>\n",
       "      <th>4</th>\n",
       "      <td>Bielefeld</td>\n",
       "      <td>2017</td>\n",
       "      <td>7775.0</td>\n",
       "      <td>8112.0</td>\n",
       "      <td>15887.0</td>\n",
       "      <td>7528.0</td>\n",
       "      <td>8054.0</td>\n",
       "      <td>15582.0</td>\n",
       "      <td>8892.0</td>\n",
       "      <td>9346.0</td>\n",
       "      <td>...</td>\n",
       "      <td>NaN</td>\n",
       "      <td>66262.0</td>\n",
       "      <td>37546.0</td>\n",
       "      <td>0.330</td>\n",
       "      <td>152.70</td>\n",
       "      <td>NaN</td>\n",
       "      <td>NaN</td>\n",
       "      <td>NaN</td>\n",
       "      <td>NaN</td>\n",
       "      <td>NaN</td>\n",
       "    </tr>\n",
       "  </tbody>\n",
       "</table>\n",
       "<p>5 rows × 152 columns</p>\n",
       "</div>"
      ],
      "text/plain": [
       "      cities  time  Population on the 1st of January, 0-4 years, female  \\\n",
       "0     Berlin  2016                                            86434.0     \n",
       "1     Berlin  2017                                            90989.0     \n",
       "2     Berlin  2018                                            92674.0     \n",
       "3  Bielefeld  2016                                             7514.0     \n",
       "4  Bielefeld  2017                                             7775.0     \n",
       "\n",
       "   Population on the 1st of January, 0-4 years, male  \\\n",
       "0                                            91718.0   \n",
       "1                                            96033.0   \n",
       "2                                            97822.0   \n",
       "3                                             7906.0   \n",
       "4                                             8112.0   \n",
       "\n",
       "   Population on the 1st of January, 0-4 years, total  \\\n",
       "0                                           178152.0    \n",
       "1                                           187022.0    \n",
       "2                                           190496.0    \n",
       "3                                            15420.0    \n",
       "4                                            15887.0    \n",
       "\n",
       "   Population on the 1st of January, 10-14 years, female  \\\n",
       "0                                            67609.0       \n",
       "1                                            69626.0       \n",
       "2                                            71497.0       \n",
       "3                                             7494.0       \n",
       "4                                             7528.0       \n",
       "\n",
       "   Population on the 1st of January, 10-14 years, male  \\\n",
       "0                                            71212.0     \n",
       "1                                            73565.0     \n",
       "2                                            75635.0     \n",
       "3                                             8017.0     \n",
       "4                                             8054.0     \n",
       "\n",
       "   Population on the 1st of January, 10-14 years, total  \\\n",
       "0                                           138821.0      \n",
       "1                                           143191.0      \n",
       "2                                           147132.0      \n",
       "3                                            15511.0      \n",
       "4                                            15582.0      \n",
       "\n",
       "   Population on the 1st of January, 15-19 years, female  \\\n",
       "0                                            69120.0       \n",
       "1                                            70952.0       \n",
       "2                                            71189.0       \n",
       "3                                             8932.0       \n",
       "4                                             8892.0       \n",
       "\n",
       "   Population on the 1st of January, 15-19 years, male  ...  \\\n",
       "0                                            72707.0    ...   \n",
       "1                                            76589.0    ...   \n",
       "2                                            76087.0    ...   \n",
       "3                                             9247.0    ...   \n",
       "4                                             9346.0    ...   \n",
       "\n",
       "   Number of registered cars per 1000 population  \\\n",
       "0                                          291.2   \n",
       "1                                            NaN   \n",
       "2                                            NaN   \n",
       "3                                          427.2   \n",
       "4                                            NaN   \n",
       "\n",
       "   People commuting into the city  People commuting out of the city  \\\n",
       "0                        295838.0                          174263.0   \n",
       "1                        309375.0                          179977.0   \n",
       "2                        321219.0                          185723.0   \n",
       "3                         64648.0                           35734.0   \n",
       "4                         66262.0                           37546.0   \n",
       "\n",
       "   People killed in road accidents per 10000 pop.  \\\n",
       "0                                           0.159   \n",
       "1                                           0.101   \n",
       "2                                           0.125   \n",
       "3                                           0.270   \n",
       "4                                           0.330   \n",
       "\n",
       "   Municipal waste generated (domestic and commercial), total - 1000 t  \\\n",
       "0                                            1361.98                     \n",
       "1                                            1385.72                     \n",
       "2                                                NaN                     \n",
       "3                                             150.47                     \n",
       "4                                             152.70                     \n",
       "\n",
       "   Price of a m³ of domestic water - Euro  \\\n",
       "0                                    1.81   \n",
       "1                                     NaN   \n",
       "2                                     NaN   \n",
       "3                                    1.85   \n",
       "4                                     NaN   \n",
       "\n",
       "   Share of population connected to potable drinking water system - %  \\\n",
       "0                                              99.81                    \n",
       "1                                                NaN                    \n",
       "2                                                NaN                    \n",
       "3                                              98.35                    \n",
       "4                                                NaN                    \n",
       "\n",
       "   Share of population connected to sewerage treatment system - %  \\\n",
       "0                                              99.72                \n",
       "1                                                NaN                \n",
       "2                                                NaN                \n",
       "3                                              99.85                \n",
       "4                                                NaN                \n",
       "\n",
       "   Share of the urban waste water load (in population equivalents) treated according to the applicable standard -%  \\\n",
       "0                                              100.0                                                                 \n",
       "1                                                NaN                                                                 \n",
       "2                                                NaN                                                                 \n",
       "3                                              100.0                                                                 \n",
       "4                                                NaN                                                                 \n",
       "\n",
       "   Total use of water - m³  \n",
       "0              206000000.0  \n",
       "1                      NaN  \n",
       "2                      NaN  \n",
       "3               15526000.0  \n",
       "4                      NaN  \n",
       "\n",
       "[5 rows x 152 columns]"
      ]
     },
     "execution_count": 55,
     "metadata": {},
     "output_type": "execute_result"
    }
   ],
   "source": [
    "print(eurostat_data.shape)\n",
    "eurostat_data.head()"
   ]
  },
  {
   "cell_type": "markdown",
   "metadata": {
    "Collapsed": "false"
   },
   "source": [
    "# Collect Foursquare data for top 20 cities"
   ]
  },
  {
   "cell_type": "markdown",
   "metadata": {
    "Collapsed": "false"
   },
   "source": [
    "## Test biergarten fetch for top 20 cities"
   ]
  },
  {
   "cell_type": "code",
   "execution_count": 13,
   "metadata": {
    "Collapsed": "false"
   },
   "outputs": [
    {
     "name": "stdout",
     "output_type": "stream",
     "text": [
      "Finding biergartens in Berlin...\n"
     ]
    },
    {
     "name": "stderr",
     "output_type": "stream",
     "text": [
      "0it [00:00, ?it/s]"
     ]
    },
    {
     "name": "stdout",
     "output_type": "stream",
     "text": [
      "Found 143 biergartens in Berlin\n",
      "Matching biergartens in Berlin to Foursquare venues...\n"
     ]
    },
    {
     "name": "stderr",
     "output_type": "stream",
     "text": [
      "143it [02:06,  1.13it/s]\n",
      "0it [00:00, ?it/s]"
     ]
    },
    {
     "name": "stdout",
     "output_type": "stream",
     "text": [
      "Fetching reviews for identified biergartens in Berlin...\n"
     ]
    },
    {
     "name": "stderr",
     "output_type": "stream",
     "text": [
      "63it [00:54,  1.15it/s]\n"
     ]
    },
    {
     "name": "stdout",
     "output_type": "stream",
     "text": [
      "Finding biergartens in Hamburg...\n"
     ]
    },
    {
     "name": "stderr",
     "output_type": "stream",
     "text": [
      "0it [00:00, ?it/s]"
     ]
    },
    {
     "name": "stdout",
     "output_type": "stream",
     "text": [
      "Found 51 biergartens in Hamburg\n",
      "Matching biergartens in Hamburg to Foursquare venues...\n"
     ]
    },
    {
     "name": "stderr",
     "output_type": "stream",
     "text": [
      "51it [00:42,  1.19it/s]\n",
      "0it [00:00, ?it/s]"
     ]
    },
    {
     "name": "stdout",
     "output_type": "stream",
     "text": [
      "Fetching reviews for identified biergartens in Hamburg...\n"
     ]
    },
    {
     "name": "stderr",
     "output_type": "stream",
     "text": [
      "14it [00:12,  1.15it/s]\n"
     ]
    },
    {
     "name": "stdout",
     "output_type": "stream",
     "text": [
      "Finding biergartens in München...\n"
     ]
    },
    {
     "name": "stderr",
     "output_type": "stream",
     "text": [
      "0it [00:00, ?it/s]"
     ]
    },
    {
     "name": "stdout",
     "output_type": "stream",
     "text": [
      "Found 131 biergartens in München\n",
      "Matching biergartens in München to Foursquare venues...\n"
     ]
    },
    {
     "name": "stderr",
     "output_type": "stream",
     "text": [
      "131it [01:51,  1.18it/s]\n",
      "0it [00:00, ?it/s]"
     ]
    },
    {
     "name": "stdout",
     "output_type": "stream",
     "text": [
      "Fetching reviews for identified biergartens in München...\n"
     ]
    },
    {
     "name": "stderr",
     "output_type": "stream",
     "text": [
      "79it [01:08,  1.15it/s]\n"
     ]
    },
    {
     "name": "stdout",
     "output_type": "stream",
     "text": [
      "Finding biergartens in Köln...\n"
     ]
    },
    {
     "name": "stderr",
     "output_type": "stream",
     "text": [
      "0it [00:00, ?it/s]"
     ]
    },
    {
     "name": "stdout",
     "output_type": "stream",
     "text": [
      "Found 61 biergartens in Köln\n",
      "Matching biergartens in Köln to Foursquare venues...\n"
     ]
    },
    {
     "name": "stderr",
     "output_type": "stream",
     "text": [
      "60it [00:51,  1.18it/s]"
     ]
    },
    {
     "name": "stdout",
     "output_type": "stream",
     "text": [
      "Retrial 1\n"
     ]
    },
    {
     "name": "stderr",
     "output_type": "stream",
     "text": [
      "61it [01:03,  1.04s/it]\n",
      "0it [00:00, ?it/s]"
     ]
    },
    {
     "name": "stdout",
     "output_type": "stream",
     "text": [
      "Fetching reviews for identified biergartens in Köln...\n"
     ]
    },
    {
     "name": "stderr",
     "output_type": "stream",
     "text": [
      "42it [00:35,  1.18it/s]\n"
     ]
    },
    {
     "name": "stdout",
     "output_type": "stream",
     "text": [
      "Finding biergartens in Frankfurt am Main...\n"
     ]
    },
    {
     "name": "stderr",
     "output_type": "stream",
     "text": [
      "0it [00:00, ?it/s]"
     ]
    },
    {
     "name": "stdout",
     "output_type": "stream",
     "text": [
      "Found 37 biergartens in Frankfurt am Main\n",
      "Matching biergartens in Frankfurt am Main to Foursquare venues...\n"
     ]
    },
    {
     "name": "stderr",
     "output_type": "stream",
     "text": [
      "37it [00:36,  1.01it/s]\n",
      "0it [00:00, ?it/s]"
     ]
    },
    {
     "name": "stdout",
     "output_type": "stream",
     "text": [
      "Fetching reviews for identified biergartens in Frankfurt am Main...\n"
     ]
    },
    {
     "name": "stderr",
     "output_type": "stream",
     "text": [
      "32it [00:27,  1.16it/s]\n"
     ]
    },
    {
     "name": "stdout",
     "output_type": "stream",
     "text": [
      "Finding biergartens in Essen...\n"
     ]
    },
    {
     "name": "stderr",
     "output_type": "stream",
     "text": [
      "0it [00:00, ?it/s]"
     ]
    },
    {
     "name": "stdout",
     "output_type": "stream",
     "text": [
      "Found 45 biergartens in Essen\n",
      "Matching biergartens in Essen to Foursquare venues...\n"
     ]
    },
    {
     "name": "stderr",
     "output_type": "stream",
     "text": [
      "45it [00:38,  1.17it/s]\n",
      "0it [00:00, ?it/s]"
     ]
    },
    {
     "name": "stdout",
     "output_type": "stream",
     "text": [
      "Fetching reviews for identified biergartens in Essen...\n"
     ]
    },
    {
     "name": "stderr",
     "output_type": "stream",
     "text": [
      "19it [00:17,  1.09it/s]\n"
     ]
    },
    {
     "name": "stdout",
     "output_type": "stream",
     "text": [
      "Finding biergartens in Stuttgart...\n"
     ]
    },
    {
     "name": "stderr",
     "output_type": "stream",
     "text": [
      "0it [00:00, ?it/s]"
     ]
    },
    {
     "name": "stdout",
     "output_type": "stream",
     "text": [
      "Found 29 biergartens in Stuttgart\n",
      "Matching biergartens in Stuttgart to Foursquare venues...\n"
     ]
    },
    {
     "name": "stderr",
     "output_type": "stream",
     "text": [
      "29it [00:24,  1.19it/s]\n",
      "0it [00:00, ?it/s]"
     ]
    },
    {
     "name": "stdout",
     "output_type": "stream",
     "text": [
      "Fetching reviews for identified biergartens in Stuttgart...\n"
     ]
    },
    {
     "name": "stderr",
     "output_type": "stream",
     "text": [
      "12it [00:09,  1.21it/s]\n"
     ]
    },
    {
     "name": "stdout",
     "output_type": "stream",
     "text": [
      "Finding biergartens in Dortmund...\n"
     ]
    },
    {
     "name": "stderr",
     "output_type": "stream",
     "text": [
      "0it [00:00, ?it/s]"
     ]
    },
    {
     "name": "stdout",
     "output_type": "stream",
     "text": [
      "Found 27 biergartens in Dortmund\n",
      "Matching biergartens in Dortmund to Foursquare venues...\n"
     ]
    },
    {
     "name": "stderr",
     "output_type": "stream",
     "text": [
      "27it [00:23,  1.16it/s]\n",
      "0it [00:00, ?it/s]"
     ]
    },
    {
     "name": "stdout",
     "output_type": "stream",
     "text": [
      "Fetching reviews for identified biergartens in Dortmund...\n"
     ]
    },
    {
     "name": "stderr",
     "output_type": "stream",
     "text": [
      "10it [00:08,  1.17it/s]\n"
     ]
    },
    {
     "name": "stdout",
     "output_type": "stream",
     "text": [
      "Finding biergartens in Düsseldorf...\n"
     ]
    },
    {
     "name": "stderr",
     "output_type": "stream",
     "text": [
      "0it [00:00, ?it/s]"
     ]
    },
    {
     "name": "stdout",
     "output_type": "stream",
     "text": [
      "Found 27 biergartens in Düsseldorf\n",
      "Matching biergartens in Düsseldorf to Foursquare venues...\n"
     ]
    },
    {
     "name": "stderr",
     "output_type": "stream",
     "text": [
      "27it [00:23,  1.17it/s]\n",
      "0it [00:00, ?it/s]"
     ]
    },
    {
     "name": "stdout",
     "output_type": "stream",
     "text": [
      "Fetching reviews for identified biergartens in Düsseldorf...\n"
     ]
    },
    {
     "name": "stderr",
     "output_type": "stream",
     "text": [
      "19it [00:16,  1.16it/s]\n"
     ]
    },
    {
     "name": "stdout",
     "output_type": "stream",
     "text": [
      "Finding biergartens in Bremen...\n"
     ]
    },
    {
     "name": "stderr",
     "output_type": "stream",
     "text": [
      "0it [00:00, ?it/s]"
     ]
    },
    {
     "name": "stdout",
     "output_type": "stream",
     "text": [
      "Found 21 biergartens in Bremen\n",
      "Matching biergartens in Bremen to Foursquare venues...\n"
     ]
    },
    {
     "name": "stderr",
     "output_type": "stream",
     "text": [
      "21it [00:18,  1.14it/s]\n",
      "0it [00:00, ?it/s]"
     ]
    },
    {
     "name": "stdout",
     "output_type": "stream",
     "text": [
      "Fetching reviews for identified biergartens in Bremen...\n"
     ]
    },
    {
     "name": "stderr",
     "output_type": "stream",
     "text": [
      "13it [00:11,  1.18it/s]\n"
     ]
    },
    {
     "name": "stdout",
     "output_type": "stream",
     "text": [
      "Finding biergartens in Hannover...\n"
     ]
    },
    {
     "name": "stderr",
     "output_type": "stream",
     "text": [
      "0it [00:00, ?it/s]"
     ]
    },
    {
     "name": "stdout",
     "output_type": "stream",
     "text": [
      "Found 30 biergartens in Hannover\n",
      "Matching biergartens in Hannover to Foursquare venues...\n"
     ]
    },
    {
     "name": "stderr",
     "output_type": "stream",
     "text": [
      "27it [00:29,  1.48s/it]"
     ]
    },
    {
     "name": "stdout",
     "output_type": "stream",
     "text": [
      "Retrial 1\n"
     ]
    },
    {
     "name": "stderr",
     "output_type": "stream",
     "text": [
      "30it [00:42,  1.41s/it]\n",
      "0it [00:00, ?it/s]"
     ]
    },
    {
     "name": "stdout",
     "output_type": "stream",
     "text": [
      "Fetching reviews for identified biergartens in Hannover...\n"
     ]
    },
    {
     "name": "stderr",
     "output_type": "stream",
     "text": [
      "17it [00:14,  1.17it/s]\n"
     ]
    },
    {
     "name": "stdout",
     "output_type": "stream",
     "text": [
      "Finding biergartens in Leipzig...\n"
     ]
    },
    {
     "name": "stderr",
     "output_type": "stream",
     "text": [
      "0it [00:00, ?it/s]"
     ]
    },
    {
     "name": "stdout",
     "output_type": "stream",
     "text": [
      "Found 66 biergartens in Leipzig\n",
      "Matching biergartens in Leipzig to Foursquare venues...\n"
     ]
    },
    {
     "name": "stderr",
     "output_type": "stream",
     "text": [
      "66it [00:55,  1.19it/s]\n",
      "0it [00:00, ?it/s]"
     ]
    },
    {
     "name": "stdout",
     "output_type": "stream",
     "text": [
      "Fetching reviews for identified biergartens in Leipzig...\n"
     ]
    },
    {
     "name": "stderr",
     "output_type": "stream",
     "text": [
      "36it [00:30,  1.18it/s]\n"
     ]
    },
    {
     "name": "stdout",
     "output_type": "stream",
     "text": [
      "Finding biergartens in Duisburg...\n"
     ]
    },
    {
     "name": "stderr",
     "output_type": "stream",
     "text": [
      "0it [00:00, ?it/s]"
     ]
    },
    {
     "name": "stdout",
     "output_type": "stream",
     "text": [
      "Found 20 biergartens in Duisburg\n",
      "Matching biergartens in Duisburg to Foursquare venues...\n"
     ]
    },
    {
     "name": "stderr",
     "output_type": "stream",
     "text": [
      "20it [00:17,  1.15it/s]\n",
      "0it [00:00, ?it/s]"
     ]
    },
    {
     "name": "stdout",
     "output_type": "stream",
     "text": [
      "Fetching reviews for identified biergartens in Duisburg...\n"
     ]
    },
    {
     "name": "stderr",
     "output_type": "stream",
     "text": [
      "4it [00:03,  1.21it/s]\n"
     ]
    },
    {
     "name": "stdout",
     "output_type": "stream",
     "text": [
      "Finding biergartens in Nürnberg...\n"
     ]
    },
    {
     "name": "stderr",
     "output_type": "stream",
     "text": [
      "0it [00:00, ?it/s]"
     ]
    },
    {
     "name": "stdout",
     "output_type": "stream",
     "text": [
      "Found 32 biergartens in Nürnberg\n",
      "Matching biergartens in Nürnberg to Foursquare venues...\n"
     ]
    },
    {
     "name": "stderr",
     "output_type": "stream",
     "text": [
      "32it [00:27,  1.16it/s]\n",
      "0it [00:00, ?it/s]"
     ]
    },
    {
     "name": "stdout",
     "output_type": "stream",
     "text": [
      "Fetching reviews for identified biergartens in Nürnberg...\n"
     ]
    },
    {
     "name": "stderr",
     "output_type": "stream",
     "text": [
      "7it [00:05,  1.20it/s]\n"
     ]
    },
    {
     "name": "stdout",
     "output_type": "stream",
     "text": [
      "Finding biergartens in Dresden...\n"
     ]
    },
    {
     "name": "stderr",
     "output_type": "stream",
     "text": [
      "0it [00:00, ?it/s]"
     ]
    },
    {
     "name": "stdout",
     "output_type": "stream",
     "text": [
      "Found 57 biergartens in Dresden\n",
      "Matching biergartens in Dresden to Foursquare venues...\n"
     ]
    },
    {
     "name": "stderr",
     "output_type": "stream",
     "text": [
      "57it [00:47,  1.19it/s]\n",
      "0it [00:00, ?it/s]"
     ]
    },
    {
     "name": "stdout",
     "output_type": "stream",
     "text": [
      "Fetching reviews for identified biergartens in Dresden...\n"
     ]
    },
    {
     "name": "stderr",
     "output_type": "stream",
     "text": [
      "27it [00:22,  1.20it/s]\n"
     ]
    },
    {
     "name": "stdout",
     "output_type": "stream",
     "text": [
      "Finding biergartens in Bochum...\n"
     ]
    },
    {
     "name": "stderr",
     "output_type": "stream",
     "text": [
      "0it [00:00, ?it/s]"
     ]
    },
    {
     "name": "stdout",
     "output_type": "stream",
     "text": [
      "Found 8 biergartens in Bochum\n",
      "Matching biergartens in Bochum to Foursquare venues...\n"
     ]
    },
    {
     "name": "stderr",
     "output_type": "stream",
     "text": [
      "8it [00:06,  1.19it/s]\n",
      "0it [00:00, ?it/s]"
     ]
    },
    {
     "name": "stdout",
     "output_type": "stream",
     "text": [
      "Fetching reviews for identified biergartens in Bochum...\n"
     ]
    },
    {
     "name": "stderr",
     "output_type": "stream",
     "text": [
      "4it [00:03,  1.23it/s]\n"
     ]
    },
    {
     "name": "stdout",
     "output_type": "stream",
     "text": [
      "Finding biergartens in Wuppertal...\n"
     ]
    },
    {
     "name": "stderr",
     "output_type": "stream",
     "text": [
      "0it [00:00, ?it/s]"
     ]
    },
    {
     "name": "stdout",
     "output_type": "stream",
     "text": [
      "Found 6 biergartens in Wuppertal\n",
      "Matching biergartens in Wuppertal to Foursquare venues...\n"
     ]
    },
    {
     "name": "stderr",
     "output_type": "stream",
     "text": [
      "6it [00:04,  1.21it/s]\n",
      "0it [00:00, ?it/s]"
     ]
    },
    {
     "name": "stdout",
     "output_type": "stream",
     "text": [
      "Fetching reviews for identified biergartens in Wuppertal...\n"
     ]
    },
    {
     "name": "stderr",
     "output_type": "stream",
     "text": [
      "2it [00:01,  1.20it/s]\n"
     ]
    },
    {
     "name": "stdout",
     "output_type": "stream",
     "text": [
      "Finding biergartens in Bielefeld...\n"
     ]
    },
    {
     "name": "stderr",
     "output_type": "stream",
     "text": [
      "0it [00:00, ?it/s]"
     ]
    },
    {
     "name": "stdout",
     "output_type": "stream",
     "text": [
      "Found 22 biergartens in Bielefeld\n",
      "Matching biergartens in Bielefeld to Foursquare venues...\n"
     ]
    },
    {
     "name": "stderr",
     "output_type": "stream",
     "text": [
      "22it [00:18,  1.21it/s]\n",
      "0it [00:00, ?it/s]"
     ]
    },
    {
     "name": "stdout",
     "output_type": "stream",
     "text": [
      "Fetching reviews for identified biergartens in Bielefeld...\n"
     ]
    },
    {
     "name": "stderr",
     "output_type": "stream",
     "text": [
      "6it [00:05,  1.19it/s]\n"
     ]
    },
    {
     "name": "stdout",
     "output_type": "stream",
     "text": [
      "Finding biergartens in Bonn...\n"
     ]
    },
    {
     "name": "stderr",
     "output_type": "stream",
     "text": [
      "0it [00:00, ?it/s]"
     ]
    },
    {
     "name": "stdout",
     "output_type": "stream",
     "text": [
      "Found 17 biergartens in Bonn\n",
      "Matching biergartens in Bonn to Foursquare venues...\n"
     ]
    },
    {
     "name": "stderr",
     "output_type": "stream",
     "text": [
      "17it [00:14,  1.18it/s]\n",
      "0it [00:00, ?it/s]"
     ]
    },
    {
     "name": "stdout",
     "output_type": "stream",
     "text": [
      "Fetching reviews for identified biergartens in Bonn...\n"
     ]
    },
    {
     "name": "stderr",
     "output_type": "stream",
     "text": [
      "13it [00:11,  1.16it/s]\n"
     ]
    },
    {
     "name": "stdout",
     "output_type": "stream",
     "text": [
      "Finding biergartens in Mannheim...\n"
     ]
    },
    {
     "name": "stderr",
     "output_type": "stream",
     "text": [
      "0it [00:00, ?it/s]"
     ]
    },
    {
     "name": "stdout",
     "output_type": "stream",
     "text": [
      "Found 25 biergartens in Mannheim\n",
      "Matching biergartens in Mannheim to Foursquare venues...\n"
     ]
    },
    {
     "name": "stderr",
     "output_type": "stream",
     "text": [
      "25it [00:21,  1.18it/s]\n",
      "0it [00:00, ?it/s]"
     ]
    },
    {
     "name": "stdout",
     "output_type": "stream",
     "text": [
      "Fetching reviews for identified biergartens in Mannheim...\n"
     ]
    },
    {
     "name": "stderr",
     "output_type": "stream",
     "text": [
      "7it [00:06,  1.13it/s]\n"
     ]
    }
   ],
   "source": [
    "osm_fsqr_data = pd.DataFrame()\n",
    "\n",
    "# Loop through the 20 biggest cities in Germany\n",
    "for city, city_code in zip(osm.top20_cities.keys(), osm.top20_cities.values()):\n",
    "    \n",
    "    # Get biergartens for city from OpenStreetMap\n",
    "    osm_biergartens = osm.OpenStreetMap(city, city_code)\n",
    "    osm_biergartens.get_biergartens_for_city()\n",
    "    \n",
    "    # Match OpenStreetMap biergartens to Foursquare venues\n",
    "    venues = fsqr.Venues(fsqr_client_id, fsqr_client_secret)\n",
    "    venues.get_nearby_venues(osm_biergartens.df_biergartens['city'], osm_biergartens.df_biergartens['latitude'],osm_biergartens.df_biergartens['longitude'])\n",
    "    \n",
    "    # Get reviews for venues identified as biergarten\n",
    "    reviews = fsqr.Reviews(fsqr_client_id, fsqr_client_secret)\n",
    "    reviews.get_venue_review(venues.venue_df['City'], venues.venue_df['venue_id'])\n",
    "    \n",
    "    # Collect results to a single dataframe\n",
    "    osm_fsqr_data = osm_fsqr_data.append(reviews.review_df)\n",
    "    "
   ]
  },
  {
   "cell_type": "code",
   "execution_count": 14,
   "metadata": {
    "Collapsed": "false"
   },
   "outputs": [
    {
     "name": "stdout",
     "output_type": "stream",
     "text": [
      "(426, 5)\n"
     ]
    },
    {
     "data": {
      "text/html": [
       "<div>\n",
       "<style scoped>\n",
       "    .dataframe tbody tr th:only-of-type {\n",
       "        vertical-align: middle;\n",
       "    }\n",
       "\n",
       "    .dataframe tbody tr th {\n",
       "        vertical-align: top;\n",
       "    }\n",
       "\n",
       "    .dataframe thead th {\n",
       "        text-align: right;\n",
       "    }\n",
       "</style>\n",
       "<table border=\"1\" class=\"dataframe\">\n",
       "  <thead>\n",
       "    <tr style=\"text-align: right;\">\n",
       "      <th></th>\n",
       "      <th>venue_id</th>\n",
       "      <th>venue_name</th>\n",
       "      <th>rating</th>\n",
       "      <th>likes_cnt</th>\n",
       "      <th>city</th>\n",
       "    </tr>\n",
       "  </thead>\n",
       "  <tbody>\n",
       "    <tr>\n",
       "      <th>0</th>\n",
       "      <td>53541e32498e5522be7a5eed</td>\n",
       "      <td>Jockel Biergarten</td>\n",
       "      <td>5.6</td>\n",
       "      <td>44</td>\n",
       "      <td>Berlin</td>\n",
       "    </tr>\n",
       "    <tr>\n",
       "      <th>1</th>\n",
       "      <td>4c20c6424889a593e9df2620</td>\n",
       "      <td>Haus Sanssouci</td>\n",
       "      <td>7.7</td>\n",
       "      <td>9</td>\n",
       "      <td>Berlin</td>\n",
       "    </tr>\n",
       "    <tr>\n",
       "      <th>2</th>\n",
       "      <td>4adcda73f964a520654521e3</td>\n",
       "      <td>Brauhaus Spandau</td>\n",
       "      <td>8.3</td>\n",
       "      <td>135</td>\n",
       "      <td>Berlin</td>\n",
       "    </tr>\n",
       "    <tr>\n",
       "      <th>3</th>\n",
       "      <td>4adcda77f964a520e14521e3</td>\n",
       "      <td>Schleusenkrug</td>\n",
       "      <td>8.5</td>\n",
       "      <td>497</td>\n",
       "      <td>Berlin</td>\n",
       "    </tr>\n",
       "    <tr>\n",
       "      <th>4</th>\n",
       "      <td>4adcda74f964a520674521e3</td>\n",
       "      <td>Alter Fritz</td>\n",
       "      <td>7.4</td>\n",
       "      <td>14</td>\n",
       "      <td>Berlin</td>\n",
       "    </tr>\n",
       "  </tbody>\n",
       "</table>\n",
       "</div>"
      ],
      "text/plain": [
       "                   venue_id         venue_name rating likes_cnt    city\n",
       "0  53541e32498e5522be7a5eed  Jockel Biergarten    5.6        44  Berlin\n",
       "1  4c20c6424889a593e9df2620     Haus Sanssouci    7.7         9  Berlin\n",
       "2  4adcda73f964a520654521e3   Brauhaus Spandau    8.3       135  Berlin\n",
       "3  4adcda77f964a520e14521e3      Schleusenkrug    8.5       497  Berlin\n",
       "4  4adcda74f964a520674521e3        Alter Fritz    7.4        14  Berlin"
      ]
     },
     "execution_count": 14,
     "metadata": {},
     "output_type": "execute_result"
    }
   ],
   "source": [
    "print(osm_fsqr_data.shape)\n",
    "osm_fsqr_data.head()"
   ]
  },
  {
   "cell_type": "markdown",
   "metadata": {
    "Collapsed": "false"
   },
   "source": [
    "# Merging Eurostat Data to Biergartens"
   ]
  },
  {
   "cell_type": "code",
   "execution_count": 28,
   "metadata": {
    "Collapsed": "false"
   },
   "outputs": [],
   "source": [
    "biergarten_data = osm_fsqr_data.merge(eurostat_data, left_on='city', right_on='cities')"
   ]
  },
  {
   "cell_type": "code",
   "execution_count": 39,
   "metadata": {
    "Collapsed": "false"
   },
   "outputs": [
    {
     "name": "stdout",
     "output_type": "stream",
     "text": [
      "(1278, 152)\n"
     ]
    },
    {
     "data": {
      "text/html": [
       "<div>\n",
       "<style scoped>\n",
       "    .dataframe tbody tr th:only-of-type {\n",
       "        vertical-align: middle;\n",
       "    }\n",
       "\n",
       "    .dataframe tbody tr th {\n",
       "        vertical-align: top;\n",
       "    }\n",
       "\n",
       "    .dataframe thead th {\n",
       "        text-align: right;\n",
       "    }\n",
       "</style>\n",
       "<table border=\"1\" class=\"dataframe\">\n",
       "  <thead>\n",
       "    <tr style=\"text-align: right;\">\n",
       "      <th></th>\n",
       "      <th>venue_id</th>\n",
       "      <th>venue_name</th>\n",
       "      <th>rating</th>\n",
       "      <th>likes_cnt</th>\n",
       "      <th>city</th>\n",
       "      <th>cities</th>\n",
       "      <th>time</th>\n",
       "      <th>Population on the 1st of January, 0-4 years, female</th>\n",
       "      <th>Population on the 1st of January, 0-4 years, male</th>\n",
       "      <th>Population on the 1st of January, 0-4 years, total</th>\n",
       "      <th>...</th>\n",
       "      <th>Number of private cars registered</th>\n",
       "      <th>Number of registered cars per 1000 population</th>\n",
       "      <th>People commuting into the city</th>\n",
       "      <th>People commuting out of the city</th>\n",
       "      <th>Municipal waste generated (domestic and commercial), total - 1000 t</th>\n",
       "      <th>Price of a m³ of domestic water - Euro</th>\n",
       "      <th>Share of population connected to potable drinking water system - %</th>\n",
       "      <th>Share of population connected to sewerage treatment system - %</th>\n",
       "      <th>Share of the urban waste water load (in population equivalents) treated according to the applicable standard -%</th>\n",
       "      <th>Total use of water - m³</th>\n",
       "    </tr>\n",
       "  </thead>\n",
       "  <tbody>\n",
       "    <tr>\n",
       "      <th>0</th>\n",
       "      <td>53541e32498e5522be7a5eed</td>\n",
       "      <td>Jockel Biergarten</td>\n",
       "      <td>5.6</td>\n",
       "      <td>44</td>\n",
       "      <td>Berlin</td>\n",
       "      <td>Berlin</td>\n",
       "      <td>2016</td>\n",
       "      <td>86434.0</td>\n",
       "      <td>91718.0</td>\n",
       "      <td>178152.0</td>\n",
       "      <td>...</td>\n",
       "      <td>1024876.0</td>\n",
       "      <td>291.2</td>\n",
       "      <td>295838.0</td>\n",
       "      <td>174263.0</td>\n",
       "      <td>1361.98</td>\n",
       "      <td>1.81</td>\n",
       "      <td>99.81</td>\n",
       "      <td>99.72</td>\n",
       "      <td>100.0</td>\n",
       "      <td>206000000.0</td>\n",
       "    </tr>\n",
       "    <tr>\n",
       "      <th>1</th>\n",
       "      <td>53541e32498e5522be7a5eed</td>\n",
       "      <td>Jockel Biergarten</td>\n",
       "      <td>5.6</td>\n",
       "      <td>44</td>\n",
       "      <td>Berlin</td>\n",
       "      <td>Berlin</td>\n",
       "      <td>2017</td>\n",
       "      <td>90989.0</td>\n",
       "      <td>96033.0</td>\n",
       "      <td>187022.0</td>\n",
       "      <td>...</td>\n",
       "      <td>NaN</td>\n",
       "      <td>NaN</td>\n",
       "      <td>309375.0</td>\n",
       "      <td>179977.0</td>\n",
       "      <td>1385.72</td>\n",
       "      <td>NaN</td>\n",
       "      <td>NaN</td>\n",
       "      <td>NaN</td>\n",
       "      <td>NaN</td>\n",
       "      <td>NaN</td>\n",
       "    </tr>\n",
       "    <tr>\n",
       "      <th>2</th>\n",
       "      <td>53541e32498e5522be7a5eed</td>\n",
       "      <td>Jockel Biergarten</td>\n",
       "      <td>5.6</td>\n",
       "      <td>44</td>\n",
       "      <td>Berlin</td>\n",
       "      <td>Berlin</td>\n",
       "      <td>2018</td>\n",
       "      <td>92674.0</td>\n",
       "      <td>97822.0</td>\n",
       "      <td>190496.0</td>\n",
       "      <td>...</td>\n",
       "      <td>NaN</td>\n",
       "      <td>NaN</td>\n",
       "      <td>321219.0</td>\n",
       "      <td>185723.0</td>\n",
       "      <td>NaN</td>\n",
       "      <td>NaN</td>\n",
       "      <td>NaN</td>\n",
       "      <td>NaN</td>\n",
       "      <td>NaN</td>\n",
       "      <td>NaN</td>\n",
       "    </tr>\n",
       "    <tr>\n",
       "      <th>3</th>\n",
       "      <td>4c20c6424889a593e9df2620</td>\n",
       "      <td>Haus Sanssouci</td>\n",
       "      <td>7.7</td>\n",
       "      <td>9</td>\n",
       "      <td>Berlin</td>\n",
       "      <td>Berlin</td>\n",
       "      <td>2016</td>\n",
       "      <td>86434.0</td>\n",
       "      <td>91718.0</td>\n",
       "      <td>178152.0</td>\n",
       "      <td>...</td>\n",
       "      <td>1024876.0</td>\n",
       "      <td>291.2</td>\n",
       "      <td>295838.0</td>\n",
       "      <td>174263.0</td>\n",
       "      <td>1361.98</td>\n",
       "      <td>1.81</td>\n",
       "      <td>99.81</td>\n",
       "      <td>99.72</td>\n",
       "      <td>100.0</td>\n",
       "      <td>206000000.0</td>\n",
       "    </tr>\n",
       "    <tr>\n",
       "      <th>4</th>\n",
       "      <td>4c20c6424889a593e9df2620</td>\n",
       "      <td>Haus Sanssouci</td>\n",
       "      <td>7.7</td>\n",
       "      <td>9</td>\n",
       "      <td>Berlin</td>\n",
       "      <td>Berlin</td>\n",
       "      <td>2017</td>\n",
       "      <td>90989.0</td>\n",
       "      <td>96033.0</td>\n",
       "      <td>187022.0</td>\n",
       "      <td>...</td>\n",
       "      <td>NaN</td>\n",
       "      <td>NaN</td>\n",
       "      <td>309375.0</td>\n",
       "      <td>179977.0</td>\n",
       "      <td>1385.72</td>\n",
       "      <td>NaN</td>\n",
       "      <td>NaN</td>\n",
       "      <td>NaN</td>\n",
       "      <td>NaN</td>\n",
       "      <td>NaN</td>\n",
       "    </tr>\n",
       "  </tbody>\n",
       "</table>\n",
       "<p>5 rows × 152 columns</p>\n",
       "</div>"
      ],
      "text/plain": [
       "                   venue_id         venue_name rating likes_cnt    city  \\\n",
       "0  53541e32498e5522be7a5eed  Jockel Biergarten    5.6        44  Berlin   \n",
       "1  53541e32498e5522be7a5eed  Jockel Biergarten    5.6        44  Berlin   \n",
       "2  53541e32498e5522be7a5eed  Jockel Biergarten    5.6        44  Berlin   \n",
       "3  4c20c6424889a593e9df2620     Haus Sanssouci    7.7         9  Berlin   \n",
       "4  4c20c6424889a593e9df2620     Haus Sanssouci    7.7         9  Berlin   \n",
       "\n",
       "   cities  time  Population on the 1st of January, 0-4 years, female  \\\n",
       "0  Berlin  2016                                            86434.0     \n",
       "1  Berlin  2017                                            90989.0     \n",
       "2  Berlin  2018                                            92674.0     \n",
       "3  Berlin  2016                                            86434.0     \n",
       "4  Berlin  2017                                            90989.0     \n",
       "\n",
       "   Population on the 1st of January, 0-4 years, male  \\\n",
       "0                                            91718.0   \n",
       "1                                            96033.0   \n",
       "2                                            97822.0   \n",
       "3                                            91718.0   \n",
       "4                                            96033.0   \n",
       "\n",
       "   Population on the 1st of January, 0-4 years, total  ...  \\\n",
       "0                                           178152.0   ...   \n",
       "1                                           187022.0   ...   \n",
       "2                                           190496.0   ...   \n",
       "3                                           178152.0   ...   \n",
       "4                                           187022.0   ...   \n",
       "\n",
       "   Number of private cars registered  \\\n",
       "0                          1024876.0   \n",
       "1                                NaN   \n",
       "2                                NaN   \n",
       "3                          1024876.0   \n",
       "4                                NaN   \n",
       "\n",
       "   Number of registered cars per 1000 population  \\\n",
       "0                                          291.2   \n",
       "1                                            NaN   \n",
       "2                                            NaN   \n",
       "3                                          291.2   \n",
       "4                                            NaN   \n",
       "\n",
       "   People commuting into the city  People commuting out of the city  \\\n",
       "0                        295838.0                          174263.0   \n",
       "1                        309375.0                          179977.0   \n",
       "2                        321219.0                          185723.0   \n",
       "3                        295838.0                          174263.0   \n",
       "4                        309375.0                          179977.0   \n",
       "\n",
       "   Municipal waste generated (domestic and commercial), total - 1000 t  \\\n",
       "0                                            1361.98                     \n",
       "1                                            1385.72                     \n",
       "2                                                NaN                     \n",
       "3                                            1361.98                     \n",
       "4                                            1385.72                     \n",
       "\n",
       "   Price of a m³ of domestic water - Euro  \\\n",
       "0                                    1.81   \n",
       "1                                     NaN   \n",
       "2                                     NaN   \n",
       "3                                    1.81   \n",
       "4                                     NaN   \n",
       "\n",
       "   Share of population connected to potable drinking water system - %  \\\n",
       "0                                              99.81                    \n",
       "1                                                NaN                    \n",
       "2                                                NaN                    \n",
       "3                                              99.81                    \n",
       "4                                                NaN                    \n",
       "\n",
       "   Share of population connected to sewerage treatment system - %  \\\n",
       "0                                              99.72                \n",
       "1                                                NaN                \n",
       "2                                                NaN                \n",
       "3                                              99.72                \n",
       "4                                                NaN                \n",
       "\n",
       "   Share of the urban waste water load (in population equivalents) treated according to the applicable standard -%  \\\n",
       "0                                              100.0                                                                 \n",
       "1                                                NaN                                                                 \n",
       "2                                                NaN                                                                 \n",
       "3                                              100.0                                                                 \n",
       "4                                                NaN                                                                 \n",
       "\n",
       "   Total use of water - m³  \n",
       "0              206000000.0  \n",
       "1                      NaN  \n",
       "2                      NaN  \n",
       "3              206000000.0  \n",
       "4                      NaN  \n",
       "\n",
       "[5 rows x 152 columns]"
      ]
     },
     "execution_count": 39,
     "metadata": {},
     "output_type": "execute_result"
    }
   ],
   "source": [
    "print(biergarten_data.shape)\n",
    "biergarten_data.head()"
   ]
  },
  {
   "cell_type": "markdown",
   "metadata": {
    "Collapsed": "false"
   },
   "source": [
    "# Store dataset"
   ]
  },
  {
   "cell_type": "code",
   "execution_count": 41,
   "metadata": {
    "Collapsed": "false"
   },
   "outputs": [],
   "source": [
    "biergarten_data.to_csv('Biergarten_data_for_analysis.csv', sep=';', header=True, index=False)"
   ]
  }
 ],
 "metadata": {
  "kernelspec": {
   "display_name": "Python (ads-capstone)",
   "language": "python",
   "name": "ads-capstone"
  },
  "language_info": {
   "codemirror_mode": {
    "name": "ipython",
    "version": 3
   },
   "file_extension": ".py",
   "mimetype": "text/x-python",
   "name": "python",
   "nbconvert_exporter": "python",
   "pygments_lexer": "ipython3",
   "version": "3.7.6"
  }
 },
 "nbformat": 4,
 "nbformat_minor": 4
}
