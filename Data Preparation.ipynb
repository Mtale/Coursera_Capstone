{
 "cells": [
  {
   "cell_type": "markdown",
   "metadata": {},
   "source": [
    "# Eurostat"
   ]
  },
  {
   "cell_type": "code",
   "execution_count": 220,
   "metadata": {},
   "outputs": [
    {
     "data": {
      "text/plain": [
       "<module 'openstreetmap.openstreetmap' from 'C:\\\\Git Repository\\\\Applied Data Science Capstone\\\\openstreetmap\\\\openstreetmap.py'>"
      ]
     },
     "execution_count": 220,
     "metadata": {},
     "output_type": "execute_result"
    }
   ],
   "source": [
    "from eurostat import germany as ger\n",
    "importlib.reload(ger)\n",
    "importlib.reload(osm)"
   ]
  },
  {
   "cell_type": "code",
   "execution_count": 186,
   "metadata": {},
   "outputs": [
    {
     "data": {
      "text/plain": [
       "(60, 37)"
      ]
     },
     "execution_count": 186,
     "metadata": {},
     "output_type": "execute_result"
    }
   ],
   "source": [
    "# Population_by_age_groups_and_sex\n",
    "population_by_age_groups_and_sex = ger.Population_by_age_groups_and_sex()\n",
    "population_by_age_groups_and_sex.api_query_result.shape"
   ]
  },
  {
   "cell_type": "code",
   "execution_count": 187,
   "metadata": {},
   "outputs": [
    {
     "data": {
      "text/plain": [
       "(60, 19)"
      ]
     },
     "execution_count": 187,
     "metadata": {},
     "output_type": "execute_result"
    }
   ],
   "source": [
    "# Population_structure\n",
    "population_structure = ger.Population_structure()\n",
    "population_structure.api_query_result.shape"
   ]
  },
  {
   "cell_type": "code",
   "execution_count": 188,
   "metadata": {},
   "outputs": [
    {
     "data": {
      "text/plain": [
       "(60, 15)"
      ]
     },
     "execution_count": 188,
     "metadata": {},
     "output_type": "execute_result"
    }
   ],
   "source": [
    "# Population_by_citizenship\n",
    "population_by_citizenship = ger.Population_by_citizenship()\n",
    "population_by_citizenship.api_query_result.shape"
   ]
  },
  {
   "cell_type": "code",
   "execution_count": 189,
   "metadata": {},
   "outputs": [
    {
     "data": {
      "text/plain": [
       "(60, 19)"
      ]
     },
     "execution_count": 189,
     "metadata": {},
     "output_type": "execute_result"
    }
   ],
   "source": [
    "# Living_conditions\n",
    "living_conditions = ger.Living_conditions()\n",
    "living_conditions.api_query_result.shape"
   ]
  },
  {
   "cell_type": "code",
   "execution_count": 190,
   "metadata": {},
   "outputs": [
    {
     "data": {
      "text/plain": [
       "(20, 6)"
      ]
     },
     "execution_count": 190,
     "metadata": {},
     "output_type": "execute_result"
    }
   ],
   "source": [
    "# Education\n",
    "education = ger.Education()\n",
    "education.api_query_result.shape"
   ]
  },
  {
   "cell_type": "code",
   "execution_count": 191,
   "metadata": {},
   "outputs": [
    {
     "data": {
      "text/plain": [
       "(60, 10)"
      ]
     },
     "execution_count": 191,
     "metadata": {},
     "output_type": "execute_result"
    }
   ],
   "source": [
    "# Culture_and_tourism\n",
    "culture_and_tourism = ger.Culture_and_tourism()\n",
    "culture_and_tourism.api_query_result.shape"
   ]
  },
  {
   "cell_type": "code",
   "execution_count": 192,
   "metadata": {},
   "outputs": [
    {
     "data": {
      "text/plain": [
       "(60, 39)"
      ]
     },
     "execution_count": 192,
     "metadata": {},
     "output_type": "execute_result"
    }
   ],
   "source": [
    "# Labour_market\n",
    "labour_market = ger.Labour_market()\n",
    "labour_market.api_query_result.shape"
   ]
  },
  {
   "cell_type": "code",
   "execution_count": 193,
   "metadata": {},
   "outputs": [
    {
     "data": {
      "text/plain": [
       "(60, 10)"
      ]
     },
     "execution_count": 193,
     "metadata": {},
     "output_type": "execute_result"
    }
   ],
   "source": [
    "# Transport\n",
    "transport = ger.Transport()\n",
    "transport.api_query_result.shape"
   ]
  },
  {
   "cell_type": "code",
   "execution_count": 194,
   "metadata": {},
   "outputs": [
    {
     "data": {
      "text/plain": [
       "(39, 8)"
      ]
     },
     "execution_count": 194,
     "metadata": {},
     "output_type": "execute_result"
    }
   ],
   "source": [
    "# Environment\n",
    "environment = ger.Environment()\n",
    "environment.api_query_result.shape"
   ]
  },
  {
   "cell_type": "markdown",
   "metadata": {},
   "source": [
    "## Merge Eurostat data into a single DataFrame"
   ]
  },
  {
   "cell_type": "code",
   "execution_count": 197,
   "metadata": {},
   "outputs": [],
   "source": [
    "eurostat_data = population_by_age_groups_and_sex.api_query_result \\\n",
    "                .merge(population_structure.api_query_result, on=['cities', 'time'], how='outer') \\\n",
    "                .merge(population_by_citizenship.api_query_result, on=['cities', 'time'], how='outer') \\\n",
    "                .merge(living_conditions.api_query_result, on=['cities', 'time'], how='outer') \\\n",
    "                .merge(education.api_query_result, on=['cities', 'time'], how='outer') \\\n",
    "                .merge(culture_and_tourism.api_query_result, on=['cities', 'time'], how='outer') \\\n",
    "                .merge(labour_market.api_query_result, on=['cities', 'time'], how='outer') \\\n",
    "                .merge(transport.api_query_result, on=['cities', 'time'], how='outer') \\\n",
    "                .merge(environment.api_query_result, on=['cities', 'time'], how='outer').drop_duplicates()"
   ]
  },
  {
   "cell_type": "code",
   "execution_count": 198,
   "metadata": {},
   "outputs": [
    {
     "name": "stdout",
     "output_type": "stream",
     "text": [
      "(60, 147)\n"
     ]
    },
    {
     "data": {
      "text/html": [
       "<div>\n",
       "<style scoped>\n",
       "    .dataframe tbody tr th:only-of-type {\n",
       "        vertical-align: middle;\n",
       "    }\n",
       "\n",
       "    .dataframe tbody tr th {\n",
       "        vertical-align: top;\n",
       "    }\n",
       "\n",
       "    .dataframe thead th {\n",
       "        text-align: right;\n",
       "    }\n",
       "</style>\n",
       "<table border=\"1\" class=\"dataframe\">\n",
       "  <thead>\n",
       "    <tr style=\"text-align: right;\">\n",
       "      <th></th>\n",
       "      <th>cities</th>\n",
       "      <th>time</th>\n",
       "      <th>Population on the 1st of January, 0-4 years, female</th>\n",
       "      <th>Population on the 1st of January, 0-4 years, male</th>\n",
       "      <th>Population on the 1st of January, 0-4 years, total</th>\n",
       "      <th>Population on the 1st of January, 10-14 years, male</th>\n",
       "      <th>Population on the 1st of January, 10-14 years, total</th>\n",
       "      <th>Population on the 1st of January, 15-19 years, female</th>\n",
       "      <th>Population on the 1st of January, 15-19 years, male</th>\n",
       "      <th>Population on the 1st of January, 15-19 years, total</th>\n",
       "      <th>...</th>\n",
       "      <th>Number of private cars registered</th>\n",
       "      <th>Number of registered cars per 1000 population</th>\n",
       "      <th>People commuting into the city</th>\n",
       "      <th>People commuting out of the city</th>\n",
       "      <th>Municipal waste generated (domestic and commercial), total - 1000 t</th>\n",
       "      <th>Price of a m³ of domestic water - Euro</th>\n",
       "      <th>Share of population connected to potable drinking water system - %</th>\n",
       "      <th>Share of population connected to sewerage treatment system - %</th>\n",
       "      <th>Share of the urban waste water load (in population equivalents) treated according to the applicable standard -%</th>\n",
       "      <th>Total use of water - m³</th>\n",
       "    </tr>\n",
       "  </thead>\n",
       "  <tbody>\n",
       "    <tr>\n",
       "      <th>0</th>\n",
       "      <td>Berlin</td>\n",
       "      <td>2016</td>\n",
       "      <td>86434.0</td>\n",
       "      <td>91718.0</td>\n",
       "      <td>178152.0</td>\n",
       "      <td>71212.0</td>\n",
       "      <td>138821.0</td>\n",
       "      <td>69120.0</td>\n",
       "      <td>72707.0</td>\n",
       "      <td>141827.0</td>\n",
       "      <td>...</td>\n",
       "      <td>1024876.0</td>\n",
       "      <td>291.2</td>\n",
       "      <td>295838.0</td>\n",
       "      <td>174263.0</td>\n",
       "      <td>1361.98</td>\n",
       "      <td>1.81</td>\n",
       "      <td>99.81</td>\n",
       "      <td>99.72</td>\n",
       "      <td>100.0</td>\n",
       "      <td>206000000.0</td>\n",
       "    </tr>\n",
       "    <tr>\n",
       "      <th>1</th>\n",
       "      <td>Berlin</td>\n",
       "      <td>2017</td>\n",
       "      <td>90989.0</td>\n",
       "      <td>96033.0</td>\n",
       "      <td>187022.0</td>\n",
       "      <td>73565.0</td>\n",
       "      <td>143191.0</td>\n",
       "      <td>70952.0</td>\n",
       "      <td>76589.0</td>\n",
       "      <td>147541.0</td>\n",
       "      <td>...</td>\n",
       "      <td>NaN</td>\n",
       "      <td>NaN</td>\n",
       "      <td>309375.0</td>\n",
       "      <td>179977.0</td>\n",
       "      <td>1385.72</td>\n",
       "      <td>NaN</td>\n",
       "      <td>NaN</td>\n",
       "      <td>NaN</td>\n",
       "      <td>NaN</td>\n",
       "      <td>NaN</td>\n",
       "    </tr>\n",
       "    <tr>\n",
       "      <th>2</th>\n",
       "      <td>Berlin</td>\n",
       "      <td>2018</td>\n",
       "      <td>92674.0</td>\n",
       "      <td>97822.0</td>\n",
       "      <td>190496.0</td>\n",
       "      <td>75635.0</td>\n",
       "      <td>147132.0</td>\n",
       "      <td>71189.0</td>\n",
       "      <td>76087.0</td>\n",
       "      <td>147276.0</td>\n",
       "      <td>...</td>\n",
       "      <td>NaN</td>\n",
       "      <td>NaN</td>\n",
       "      <td>321219.0</td>\n",
       "      <td>185723.0</td>\n",
       "      <td>NaN</td>\n",
       "      <td>NaN</td>\n",
       "      <td>NaN</td>\n",
       "      <td>NaN</td>\n",
       "      <td>NaN</td>\n",
       "      <td>NaN</td>\n",
       "    </tr>\n",
       "    <tr>\n",
       "      <th>3</th>\n",
       "      <td>Bielefeld</td>\n",
       "      <td>2016</td>\n",
       "      <td>7514.0</td>\n",
       "      <td>7906.0</td>\n",
       "      <td>15420.0</td>\n",
       "      <td>8017.0</td>\n",
       "      <td>15511.0</td>\n",
       "      <td>8932.0</td>\n",
       "      <td>9247.0</td>\n",
       "      <td>18179.0</td>\n",
       "      <td>...</td>\n",
       "      <td>142308.0</td>\n",
       "      <td>427.2</td>\n",
       "      <td>64648.0</td>\n",
       "      <td>35734.0</td>\n",
       "      <td>150.47</td>\n",
       "      <td>1.85</td>\n",
       "      <td>98.35</td>\n",
       "      <td>99.85</td>\n",
       "      <td>100.0</td>\n",
       "      <td>15526000.0</td>\n",
       "    </tr>\n",
       "    <tr>\n",
       "      <th>4</th>\n",
       "      <td>Bielefeld</td>\n",
       "      <td>2017</td>\n",
       "      <td>7775.0</td>\n",
       "      <td>8112.0</td>\n",
       "      <td>15887.0</td>\n",
       "      <td>8054.0</td>\n",
       "      <td>15582.0</td>\n",
       "      <td>8892.0</td>\n",
       "      <td>9346.0</td>\n",
       "      <td>18238.0</td>\n",
       "      <td>...</td>\n",
       "      <td>NaN</td>\n",
       "      <td>NaN</td>\n",
       "      <td>66262.0</td>\n",
       "      <td>37546.0</td>\n",
       "      <td>152.70</td>\n",
       "      <td>NaN</td>\n",
       "      <td>NaN</td>\n",
       "      <td>NaN</td>\n",
       "      <td>NaN</td>\n",
       "      <td>NaN</td>\n",
       "    </tr>\n",
       "  </tbody>\n",
       "</table>\n",
       "<p>5 rows × 147 columns</p>\n",
       "</div>"
      ],
      "text/plain": [
       "      cities  time  Population on the 1st of January, 0-4 years, female  \\\n",
       "0     Berlin  2016                                            86434.0     \n",
       "1     Berlin  2017                                            90989.0     \n",
       "2     Berlin  2018                                            92674.0     \n",
       "3  Bielefeld  2016                                             7514.0     \n",
       "4  Bielefeld  2017                                             7775.0     \n",
       "\n",
       "   Population on the 1st of January, 0-4 years, male  \\\n",
       "0                                            91718.0   \n",
       "1                                            96033.0   \n",
       "2                                            97822.0   \n",
       "3                                             7906.0   \n",
       "4                                             8112.0   \n",
       "\n",
       "   Population on the 1st of January, 0-4 years, total  \\\n",
       "0                                           178152.0    \n",
       "1                                           187022.0    \n",
       "2                                           190496.0    \n",
       "3                                            15420.0    \n",
       "4                                            15887.0    \n",
       "\n",
       "   Population on the 1st of January, 10-14 years, male  \\\n",
       "0                                            71212.0     \n",
       "1                                            73565.0     \n",
       "2                                            75635.0     \n",
       "3                                             8017.0     \n",
       "4                                             8054.0     \n",
       "\n",
       "   Population on the 1st of January, 10-14 years, total  \\\n",
       "0                                           138821.0      \n",
       "1                                           143191.0      \n",
       "2                                           147132.0      \n",
       "3                                            15511.0      \n",
       "4                                            15582.0      \n",
       "\n",
       "   Population on the 1st of January, 15-19 years, female  \\\n",
       "0                                            69120.0       \n",
       "1                                            70952.0       \n",
       "2                                            71189.0       \n",
       "3                                             8932.0       \n",
       "4                                             8892.0       \n",
       "\n",
       "   Population on the 1st of January, 15-19 years, male  \\\n",
       "0                                            72707.0     \n",
       "1                                            76589.0     \n",
       "2                                            76087.0     \n",
       "3                                             9247.0     \n",
       "4                                             9346.0     \n",
       "\n",
       "   Population on the 1st of January, 15-19 years, total  ...  \\\n",
       "0                                           141827.0     ...   \n",
       "1                                           147541.0     ...   \n",
       "2                                           147276.0     ...   \n",
       "3                                            18179.0     ...   \n",
       "4                                            18238.0     ...   \n",
       "\n",
       "   Number of private cars registered  \\\n",
       "0                          1024876.0   \n",
       "1                                NaN   \n",
       "2                                NaN   \n",
       "3                           142308.0   \n",
       "4                                NaN   \n",
       "\n",
       "   Number of registered cars per 1000 population  \\\n",
       "0                                          291.2   \n",
       "1                                            NaN   \n",
       "2                                            NaN   \n",
       "3                                          427.2   \n",
       "4                                            NaN   \n",
       "\n",
       "   People commuting into the city  People commuting out of the city  \\\n",
       "0                        295838.0                          174263.0   \n",
       "1                        309375.0                          179977.0   \n",
       "2                        321219.0                          185723.0   \n",
       "3                         64648.0                           35734.0   \n",
       "4                         66262.0                           37546.0   \n",
       "\n",
       "   Municipal waste generated (domestic and commercial), total - 1000 t  \\\n",
       "0                                            1361.98                     \n",
       "1                                            1385.72                     \n",
       "2                                                NaN                     \n",
       "3                                             150.47                     \n",
       "4                                             152.70                     \n",
       "\n",
       "   Price of a m³ of domestic water - Euro  \\\n",
       "0                                    1.81   \n",
       "1                                     NaN   \n",
       "2                                     NaN   \n",
       "3                                    1.85   \n",
       "4                                     NaN   \n",
       "\n",
       "   Share of population connected to potable drinking water system - %  \\\n",
       "0                                              99.81                    \n",
       "1                                                NaN                    \n",
       "2                                                NaN                    \n",
       "3                                              98.35                    \n",
       "4                                                NaN                    \n",
       "\n",
       "   Share of population connected to sewerage treatment system - %  \\\n",
       "0                                              99.72                \n",
       "1                                                NaN                \n",
       "2                                                NaN                \n",
       "3                                              99.85                \n",
       "4                                                NaN                \n",
       "\n",
       "   Share of the urban waste water load (in population equivalents) treated according to the applicable standard -%  \\\n",
       "0                                              100.0                                                                 \n",
       "1                                                NaN                                                                 \n",
       "2                                                NaN                                                                 \n",
       "3                                              100.0                                                                 \n",
       "4                                                NaN                                                                 \n",
       "\n",
       "   Total use of water - m³  \n",
       "0              206000000.0  \n",
       "1                      NaN  \n",
       "2                      NaN  \n",
       "3               15526000.0  \n",
       "4                      NaN  \n",
       "\n",
       "[5 rows x 147 columns]"
      ]
     },
     "execution_count": 198,
     "metadata": {},
     "output_type": "execute_result"
    }
   ],
   "source": [
    "print(eurostat_data.shape)\n",
    "eurostat_data.head()"
   ]
  },
  {
   "cell_type": "markdown",
   "metadata": {},
   "source": [
    "# OpenStreetMap & Foursquare"
   ]
  },
  {
   "cell_type": "code",
   "execution_count": 199,
   "metadata": {},
   "outputs": [],
   "source": [
    "from openstreetmap import openstreetmap as osm\n",
    "import time"
   ]
  },
  {
   "cell_type": "code",
   "execution_count": 200,
   "metadata": {},
   "outputs": [
    {
     "data": {
      "text/plain": [
       "{'Berlin': '62422',\n",
       " 'Hamburg': '62782',\n",
       " 'München': '62428',\n",
       " 'Köln': '62578',\n",
       " 'Frankfurt am Main': '62400',\n",
       " 'Essen': '62713',\n",
       " 'Stuttgart': '2793104',\n",
       " 'Dortmund': '1829065',\n",
       " 'Düsseldorf': '62539',\n",
       " 'Bremen': '62559',\n",
       " 'Hannover': '59418',\n",
       " 'Leipzig': '62649',\n",
       " 'Duisburg': '62456',\n",
       " 'Nürnberg': '62780',\n",
       " 'Dresden': '191645',\n",
       " 'Bochum': '62644',\n",
       " 'Wuppertal': '62478',\n",
       " 'Bielefeld': '62646',\n",
       " 'Bonn': '62508',\n",
       " 'Mannheim': '62691'}"
      ]
     },
     "execution_count": 200,
     "metadata": {},
     "output_type": "execute_result"
    }
   ],
   "source": [
    "osm.top20_cities"
   ]
  },
  {
   "cell_type": "code",
   "execution_count": 221,
   "metadata": {},
   "outputs": [],
   "source": [
    "cls = osm.OpenStreetMap('München', '62428')"
   ]
  },
  {
   "cell_type": "code",
   "execution_count": 222,
   "metadata": {},
   "outputs": [
    {
     "data": {
      "text/plain": [
       "62428"
      ]
     },
     "execution_count": 222,
     "metadata": {},
     "output_type": "execute_result"
    }
   ],
   "source": [
    "int(cls.city_id)"
   ]
  },
  {
   "cell_type": "code",
   "execution_count": 223,
   "metadata": {},
   "outputs": [
    {
     "data": {
      "text/plain": [
       "'München'"
      ]
     },
     "execution_count": 223,
     "metadata": {},
     "output_type": "execute_result"
    }
   ],
   "source": [
    "cls.city_name"
   ]
  },
  {
   "cell_type": "code",
   "execution_count": 224,
   "metadata": {},
   "outputs": [],
   "source": [
    "cls.calc_overpass_city_id()"
   ]
  },
  {
   "cell_type": "code",
   "execution_count": 225,
   "metadata": {},
   "outputs": [
    {
     "data": {
      "text/plain": [
       "'3600062428'"
      ]
     },
     "execution_count": 225,
     "metadata": {},
     "output_type": "execute_result"
    }
   ],
   "source": [
    "cls.overpass_city_id"
   ]
  },
  {
   "cell_type": "code",
   "execution_count": 226,
   "metadata": {},
   "outputs": [
    {
     "name": "stdout",
     "output_type": "stream",
     "text": [
      "Finding biergartens in München...\n",
      "Found 131 biergartens in München\n"
     ]
    },
    {
     "data": {
      "text/html": [
       "<div>\n",
       "<style scoped>\n",
       "    .dataframe tbody tr th:only-of-type {\n",
       "        vertical-align: middle;\n",
       "    }\n",
       "\n",
       "    .dataframe tbody tr th {\n",
       "        vertical-align: top;\n",
       "    }\n",
       "\n",
       "    .dataframe thead th {\n",
       "        text-align: right;\n",
       "    }\n",
       "</style>\n",
       "<table border=\"1\" class=\"dataframe\">\n",
       "  <thead>\n",
       "    <tr style=\"text-align: right;\">\n",
       "      <th></th>\n",
       "      <th>id</th>\n",
       "      <th>latitude</th>\n",
       "      <th>longitude</th>\n",
       "      <th>tags</th>\n",
       "      <th>type</th>\n",
       "      <th>city</th>\n",
       "      <th>city_id</th>\n",
       "    </tr>\n",
       "  </thead>\n",
       "  <tbody>\n",
       "    <tr>\n",
       "      <th>0</th>\n",
       "      <td>118252923.0</td>\n",
       "      <td>48.149801</td>\n",
       "      <td>11.585537</td>\n",
       "      <td>{'addr:city': 'München', 'addr:housenumber': '...</td>\n",
       "      <td>Node</td>\n",
       "      <td>München</td>\n",
       "      <td>62428</td>\n",
       "    </tr>\n",
       "    <tr>\n",
       "      <th>1</th>\n",
       "      <td>260796705.0</td>\n",
       "      <td>48.120427</td>\n",
       "      <td>11.607181</td>\n",
       "      <td>{'addr:city': 'München', 'addr:country': 'DE',...</td>\n",
       "      <td>Node</td>\n",
       "      <td>München</td>\n",
       "      <td>62428</td>\n",
       "    </tr>\n",
       "    <tr>\n",
       "      <th>2</th>\n",
       "      <td>263389412.0</td>\n",
       "      <td>48.114720</td>\n",
       "      <td>11.614455</td>\n",
       "      <td>{'amenity': 'biergarten', 'name': 'Alter Wirt'...</td>\n",
       "      <td>Node</td>\n",
       "      <td>München</td>\n",
       "      <td>62428</td>\n",
       "    </tr>\n",
       "    <tr>\n",
       "      <th>3</th>\n",
       "      <td>263904864.0</td>\n",
       "      <td>48.114070</td>\n",
       "      <td>11.613793</td>\n",
       "      <td>{'amenity': 'biergarten', 'name': 'Zar', 'open...</td>\n",
       "      <td>Node</td>\n",
       "      <td>München</td>\n",
       "      <td>62428</td>\n",
       "    </tr>\n",
       "    <tr>\n",
       "      <th>4</th>\n",
       "      <td>264012141.0</td>\n",
       "      <td>48.130373</td>\n",
       "      <td>11.615910</td>\n",
       "      <td>{'amenity': 'biergarten', 'name': 'Padova', 'w...</td>\n",
       "      <td>Node</td>\n",
       "      <td>München</td>\n",
       "      <td>62428</td>\n",
       "    </tr>\n",
       "    <tr>\n",
       "      <th>...</th>\n",
       "      <td>...</td>\n",
       "      <td>...</td>\n",
       "      <td>...</td>\n",
       "      <td>...</td>\n",
       "      <td>...</td>\n",
       "      <td>...</td>\n",
       "      <td>...</td>\n",
       "    </tr>\n",
       "    <tr>\n",
       "      <th>126</th>\n",
       "      <td>607507205.0</td>\n",
       "      <td>48.128821</td>\n",
       "      <td>11.653664</td>\n",
       "      <td>{'addr:city': 'München', 'addr:housenumber': '...</td>\n",
       "      <td>Way</td>\n",
       "      <td>München</td>\n",
       "      <td>62428</td>\n",
       "    </tr>\n",
       "    <tr>\n",
       "      <th>127</th>\n",
       "      <td>624027883.0</td>\n",
       "      <td>48.138347</td>\n",
       "      <td>11.562754</td>\n",
       "      <td>{'addr:housenumber': '10', 'addr:street': 'Ado...</td>\n",
       "      <td>Way</td>\n",
       "      <td>München</td>\n",
       "      <td>62428</td>\n",
       "    </tr>\n",
       "    <tr>\n",
       "      <th>128</th>\n",
       "      <td>701098863.0</td>\n",
       "      <td>48.163090</td>\n",
       "      <td>11.532503</td>\n",
       "      <td>{'amenity': 'biergarten', 'name': 'Taxisgarten...</td>\n",
       "      <td>Way</td>\n",
       "      <td>München</td>\n",
       "      <td>62428</td>\n",
       "    </tr>\n",
       "    <tr>\n",
       "      <th>129</th>\n",
       "      <td>705288640.0</td>\n",
       "      <td>48.132953</td>\n",
       "      <td>11.588964</td>\n",
       "      <td>{'addr:city': 'München', 'addr:country': 'DE',...</td>\n",
       "      <td>Way</td>\n",
       "      <td>München</td>\n",
       "      <td>62428</td>\n",
       "    </tr>\n",
       "    <tr>\n",
       "      <th>130</th>\n",
       "      <td>774759219.0</td>\n",
       "      <td>48.145528</td>\n",
       "      <td>11.593558</td>\n",
       "      <td>{'amenity': 'biergarten', 'name': 'Leib und Se...</td>\n",
       "      <td>Way</td>\n",
       "      <td>München</td>\n",
       "      <td>62428</td>\n",
       "    </tr>\n",
       "  </tbody>\n",
       "</table>\n",
       "<p>131 rows × 7 columns</p>\n",
       "</div>"
      ],
      "text/plain": [
       "              id   latitude  longitude  \\\n",
       "0    118252923.0  48.149801  11.585537   \n",
       "1    260796705.0  48.120427  11.607181   \n",
       "2    263389412.0  48.114720  11.614455   \n",
       "3    263904864.0  48.114070  11.613793   \n",
       "4    264012141.0  48.130373  11.615910   \n",
       "..           ...        ...        ...   \n",
       "126  607507205.0  48.128821  11.653664   \n",
       "127  624027883.0  48.138347  11.562754   \n",
       "128  701098863.0  48.163090  11.532503   \n",
       "129  705288640.0  48.132953  11.588964   \n",
       "130  774759219.0  48.145528  11.593558   \n",
       "\n",
       "                                                  tags  type     city city_id  \n",
       "0    {'addr:city': 'München', 'addr:housenumber': '...  Node  München   62428  \n",
       "1    {'addr:city': 'München', 'addr:country': 'DE',...  Node  München   62428  \n",
       "2    {'amenity': 'biergarten', 'name': 'Alter Wirt'...  Node  München   62428  \n",
       "3    {'amenity': 'biergarten', 'name': 'Zar', 'open...  Node  München   62428  \n",
       "4    {'amenity': 'biergarten', 'name': 'Padova', 'w...  Node  München   62428  \n",
       "..                                                 ...   ...      ...     ...  \n",
       "126  {'addr:city': 'München', 'addr:housenumber': '...   Way  München   62428  \n",
       "127  {'addr:housenumber': '10', 'addr:street': 'Ado...   Way  München   62428  \n",
       "128  {'amenity': 'biergarten', 'name': 'Taxisgarten...   Way  München   62428  \n",
       "129  {'addr:city': 'München', 'addr:country': 'DE',...   Way  München   62428  \n",
       "130  {'amenity': 'biergarten', 'name': 'Leib und Se...   Way  München   62428  \n",
       "\n",
       "[131 rows x 7 columns]"
      ]
     },
     "execution_count": 226,
     "metadata": {},
     "output_type": "execute_result"
    }
   ],
   "source": [
    "bonn_biergartens = cls.get_biergartens_for_city()\n",
    "bonn_biergartens "
   ]
  },
  {
   "cell_type": "code",
   "execution_count": 227,
   "metadata": {},
   "outputs": [
    {
     "data": {
      "text/plain": [
       "(131, 7)"
      ]
     },
     "execution_count": 227,
     "metadata": {},
     "output_type": "execute_result"
    }
   ],
   "source": [
    "bonn_biergartens.shape"
   ]
  },
  {
   "cell_type": "markdown",
   "metadata": {},
   "source": [
    "## Get Foursquare venues for biergartens in Bonn"
   ]
  },
  {
   "cell_type": "code",
   "execution_count": 228,
   "metadata": {},
   "outputs": [],
   "source": [
    "import pandas\n",
    "import os\n",
    "import sys\n",
    "sys.path.insert(0, os.path.abspath(os.environ['USERPROFILE'] + '/Desktop/my_pwd'))\n",
    "import foursquare_pwd"
   ]
  },
  {
   "cell_type": "code",
   "execution_count": 229,
   "metadata": {},
   "outputs": [],
   "source": [
    "fsqr_client_id = foursquare_pwd.client_id # your Foursquare ID\n",
    "fsqr_client_secret = foursquare_pwd.client_secret # your Foursquare Secret"
   ]
  },
  {
   "cell_type": "code",
   "execution_count": 230,
   "metadata": {},
   "outputs": [
    {
     "data": {
      "text/plain": [
       "<module 'foursquare.foursquare' from 'C:\\\\Git Repository\\\\Applied Data Science Capstone\\\\foursquare\\\\foursquare.py'>"
      ]
     },
     "execution_count": 230,
     "metadata": {},
     "output_type": "execute_result"
    }
   ],
   "source": [
    "from foursquare import foursquare as fsqr\n",
    "import importlib\n",
    "importlib.reload(fsqr)"
   ]
  },
  {
   "cell_type": "code",
   "execution_count": 231,
   "metadata": {},
   "outputs": [],
   "source": [
    "v = fsqr.Venues(fsqr_client_id, fsqr_client_secret)"
   ]
  },
  {
   "cell_type": "code",
   "execution_count": 232,
   "metadata": {},
   "outputs": [
    {
     "name": "stdout",
     "output_type": "stream",
     "text": [
      "Matching biergartens in München to Foursquare venues...\n"
     ]
    },
    {
     "name": "stderr",
     "output_type": "stream",
     "text": [
      "131it [01:53,  1.15it/s]\n"
     ]
    }
   ],
   "source": [
    "v.get_nearby_venues(bonn_biergartens['city'], bonn_biergartens['latitude'],bonn_biergartens['longitude'])"
   ]
  },
  {
   "cell_type": "code",
   "execution_count": 233,
   "metadata": {},
   "outputs": [
    {
     "data": {
      "text/html": [
       "<div>\n",
       "<style scoped>\n",
       "    .dataframe tbody tr th:only-of-type {\n",
       "        vertical-align: middle;\n",
       "    }\n",
       "\n",
       "    .dataframe tbody tr th {\n",
       "        vertical-align: top;\n",
       "    }\n",
       "\n",
       "    .dataframe thead th {\n",
       "        text-align: right;\n",
       "    }\n",
       "</style>\n",
       "<table border=\"1\" class=\"dataframe\">\n",
       "  <thead>\n",
       "    <tr style=\"text-align: right;\">\n",
       "      <th></th>\n",
       "      <th>City</th>\n",
       "      <th>OSM Latitude</th>\n",
       "      <th>OSM Longitude</th>\n",
       "      <th>venue_id</th>\n",
       "      <th>Venue</th>\n",
       "      <th>Venue Latitude</th>\n",
       "      <th>Venue Longitude</th>\n",
       "      <th>Venue Category</th>\n",
       "    </tr>\n",
       "  </thead>\n",
       "  <tbody>\n",
       "    <tr>\n",
       "      <th>0</th>\n",
       "      <td>München</td>\n",
       "      <td>48.149801</td>\n",
       "      <td>11.585537</td>\n",
       "      <td>4b45c348f964a520f90f26e3</td>\n",
       "      <td>Milchhäusl</td>\n",
       "      <td>48.149882</td>\n",
       "      <td>11.585483</td>\n",
       "      <td>Beer Garden</td>\n",
       "    </tr>\n",
       "    <tr>\n",
       "      <th>1</th>\n",
       "      <td>München</td>\n",
       "      <td>48.114720</td>\n",
       "      <td>11.614455</td>\n",
       "      <td>4b211123f964a5208d3624e3</td>\n",
       "      <td>Gaststätte \"Alter Wirt\"</td>\n",
       "      <td>48.114739</td>\n",
       "      <td>11.614436</td>\n",
       "      <td>German Restaurant</td>\n",
       "    </tr>\n",
       "    <tr>\n",
       "      <th>2</th>\n",
       "      <td>München</td>\n",
       "      <td>48.173259</td>\n",
       "      <td>11.395971</td>\n",
       "      <td>4e134a9d1838f8ad816cbc5b</td>\n",
       "      <td>Bienenheim</td>\n",
       "      <td>48.173303</td>\n",
       "      <td>11.395973</td>\n",
       "      <td>Beer Garden</td>\n",
       "    </tr>\n",
       "    <tr>\n",
       "      <th>3</th>\n",
       "      <td>München</td>\n",
       "      <td>48.173259</td>\n",
       "      <td>11.395971</td>\n",
       "      <td>5865482ab12d9f3e943adb5f</td>\n",
       "      <td>Waldwirtschaft Bienenheim</td>\n",
       "      <td>48.173323</td>\n",
       "      <td>11.395781</td>\n",
       "      <td>Bavarian Restaurant</td>\n",
       "    </tr>\n",
       "    <tr>\n",
       "      <th>4</th>\n",
       "      <td>München</td>\n",
       "      <td>48.143627</td>\n",
       "      <td>11.417126</td>\n",
       "      <td>4be6d2748a8cb713d583c4a0</td>\n",
       "      <td>Aubinger Einkehr</td>\n",
       "      <td>48.143723</td>\n",
       "      <td>11.417154</td>\n",
       "      <td>German Restaurant</td>\n",
       "    </tr>\n",
       "    <tr>\n",
       "      <th>...</th>\n",
       "      <td>...</td>\n",
       "      <td>...</td>\n",
       "      <td>...</td>\n",
       "      <td>...</td>\n",
       "      <td>...</td>\n",
       "      <td>...</td>\n",
       "      <td>...</td>\n",
       "      <td>...</td>\n",
       "    </tr>\n",
       "    <tr>\n",
       "      <th>57</th>\n",
       "      <td>München</td>\n",
       "      <td>48.078874</td>\n",
       "      <td>11.671983</td>\n",
       "      <td>4bd4845acfa7b713043924da</td>\n",
       "      <td>Leiberheim</td>\n",
       "      <td>48.079012</td>\n",
       "      <td>11.672019</td>\n",
       "      <td>Beer Garden</td>\n",
       "    </tr>\n",
       "    <tr>\n",
       "      <th>58</th>\n",
       "      <td>München</td>\n",
       "      <td>48.138347</td>\n",
       "      <td>11.562754</td>\n",
       "      <td>5b1bec8a418686002c7eb88f</td>\n",
       "      <td>Kulturdachgarten</td>\n",
       "      <td>48.138288</td>\n",
       "      <td>11.562770</td>\n",
       "      <td>Roof Deck</td>\n",
       "    </tr>\n",
       "    <tr>\n",
       "      <th>59</th>\n",
       "      <td>München</td>\n",
       "      <td>48.163090</td>\n",
       "      <td>11.532503</td>\n",
       "      <td>4ade0cadf964a520766821e3</td>\n",
       "      <td>Taxisgarten</td>\n",
       "      <td>48.163190</td>\n",
       "      <td>11.532430</td>\n",
       "      <td>Beer Garden</td>\n",
       "    </tr>\n",
       "    <tr>\n",
       "      <th>60</th>\n",
       "      <td>München</td>\n",
       "      <td>48.132953</td>\n",
       "      <td>11.588964</td>\n",
       "      <td>4bd1e0e1462cb7134215db07</td>\n",
       "      <td>Muffathalle Biergarten</td>\n",
       "      <td>48.132865</td>\n",
       "      <td>11.589081</td>\n",
       "      <td>Beer Garden</td>\n",
       "    </tr>\n",
       "    <tr>\n",
       "      <th>61</th>\n",
       "      <td>München</td>\n",
       "      <td>48.145528</td>\n",
       "      <td>11.593558</td>\n",
       "      <td>4b6eca88f964a520b5ca2ce3</td>\n",
       "      <td>Leib &amp; Seele</td>\n",
       "      <td>48.145619</td>\n",
       "      <td>11.593656</td>\n",
       "      <td>German Restaurant</td>\n",
       "    </tr>\n",
       "  </tbody>\n",
       "</table>\n",
       "<p>62 rows × 8 columns</p>\n",
       "</div>"
      ],
      "text/plain": [
       "       City  OSM Latitude  OSM Longitude                  venue_id  \\\n",
       "0   München     48.149801      11.585537  4b45c348f964a520f90f26e3   \n",
       "1   München     48.114720      11.614455  4b211123f964a5208d3624e3   \n",
       "2   München     48.173259      11.395971  4e134a9d1838f8ad816cbc5b   \n",
       "3   München     48.173259      11.395971  5865482ab12d9f3e943adb5f   \n",
       "4   München     48.143627      11.417126  4be6d2748a8cb713d583c4a0   \n",
       "..      ...           ...            ...                       ...   \n",
       "57  München     48.078874      11.671983  4bd4845acfa7b713043924da   \n",
       "58  München     48.138347      11.562754  5b1bec8a418686002c7eb88f   \n",
       "59  München     48.163090      11.532503  4ade0cadf964a520766821e3   \n",
       "60  München     48.132953      11.588964  4bd1e0e1462cb7134215db07   \n",
       "61  München     48.145528      11.593558  4b6eca88f964a520b5ca2ce3   \n",
       "\n",
       "                        Venue  Venue Latitude  Venue Longitude  \\\n",
       "0                  Milchhäusl       48.149882        11.585483   \n",
       "1     Gaststätte \"Alter Wirt\"       48.114739        11.614436   \n",
       "2                  Bienenheim       48.173303        11.395973   \n",
       "3   Waldwirtschaft Bienenheim       48.173323        11.395781   \n",
       "4            Aubinger Einkehr       48.143723        11.417154   \n",
       "..                        ...             ...              ...   \n",
       "57                 Leiberheim       48.079012        11.672019   \n",
       "58           Kulturdachgarten       48.138288        11.562770   \n",
       "59                Taxisgarten       48.163190        11.532430   \n",
       "60     Muffathalle Biergarten       48.132865        11.589081   \n",
       "61               Leib & Seele       48.145619        11.593656   \n",
       "\n",
       "         Venue Category  \n",
       "0           Beer Garden  \n",
       "1     German Restaurant  \n",
       "2           Beer Garden  \n",
       "3   Bavarian Restaurant  \n",
       "4     German Restaurant  \n",
       "..                  ...  \n",
       "57          Beer Garden  \n",
       "58            Roof Deck  \n",
       "59          Beer Garden  \n",
       "60          Beer Garden  \n",
       "61    German Restaurant  \n",
       "\n",
       "[62 rows x 8 columns]"
      ]
     },
     "execution_count": 233,
     "metadata": {},
     "output_type": "execute_result"
    }
   ],
   "source": [
    "v.venue_df"
   ]
  },
  {
   "cell_type": "markdown",
   "metadata": {},
   "source": [
    "## Get reviews for biergartens in Bonn"
   ]
  },
  {
   "cell_type": "code",
   "execution_count": 234,
   "metadata": {},
   "outputs": [],
   "source": [
    "c = fsqr.Reviews(fsqr_client_id, fsqr_client_secret)"
   ]
  },
  {
   "cell_type": "code",
   "execution_count": null,
   "metadata": {},
   "outputs": [
    {
     "name": "stderr",
     "output_type": "stream",
     "text": [
      "0it [00:00, ?it/s]"
     ]
    },
    {
     "name": "stdout",
     "output_type": "stream",
     "text": [
      "Fetching reviews for identified biergartens in München...\n"
     ]
    },
    {
     "name": "stderr",
     "output_type": "stream",
     "text": [
      "20it [00:09,  2.19it/s]"
     ]
    }
   ],
   "source": [
    "c.get_venue_review(v.venue_df['City'], v.venue_df['venue_id'])"
   ]
  },
  {
   "cell_type": "code",
   "execution_count": 18,
   "metadata": {},
   "outputs": [
    {
     "data": {
      "text/html": [
       "<div>\n",
       "<style scoped>\n",
       "    .dataframe tbody tr th:only-of-type {\n",
       "        vertical-align: middle;\n",
       "    }\n",
       "\n",
       "    .dataframe tbody tr th {\n",
       "        vertical-align: top;\n",
       "    }\n",
       "\n",
       "    .dataframe thead th {\n",
       "        text-align: right;\n",
       "    }\n",
       "</style>\n",
       "<table border=\"1\" class=\"dataframe\">\n",
       "  <thead>\n",
       "    <tr style=\"text-align: right;\">\n",
       "      <th></th>\n",
       "      <th>venue_id</th>\n",
       "      <th>venue_name</th>\n",
       "      <th>rating</th>\n",
       "      <th>likes_cnt</th>\n",
       "      <th>city</th>\n",
       "    </tr>\n",
       "  </thead>\n",
       "  <tbody>\n",
       "    <tr>\n",
       "      <th>0</th>\n",
       "      <td>4f6dc7cde4b04cb29411986c</td>\n",
       "      <td>Rheinpavillon Blauer Affe</td>\n",
       "      <td>7.5</td>\n",
       "      <td>29</td>\n",
       "      <td>Bonn</td>\n",
       "    </tr>\n",
       "    <tr>\n",
       "      <th>1</th>\n",
       "      <td>4c027155f423a593f3bece16</td>\n",
       "      <td>Bundeshäuschen</td>\n",
       "      <td>8</td>\n",
       "      <td>12</td>\n",
       "      <td>Bonn</td>\n",
       "    </tr>\n",
       "    <tr>\n",
       "      <th>2</th>\n",
       "      <td>4b531c70f964a520338f27e3</td>\n",
       "      <td>Rheinlust</td>\n",
       "      <td>6.2</td>\n",
       "      <td>43</td>\n",
       "      <td>Bonn</td>\n",
       "    </tr>\n",
       "    <tr>\n",
       "      <th>3</th>\n",
       "      <td>4db16424a86e63d21169921b</td>\n",
       "      <td>Biergarten RheinAue</td>\n",
       "      <td>7.1</td>\n",
       "      <td>13</td>\n",
       "      <td>Bonn</td>\n",
       "    </tr>\n",
       "    <tr>\n",
       "      <th>4</th>\n",
       "      <td>4ba20691f964a5200ad737e3</td>\n",
       "      <td>Biergarten Alter Zoll</td>\n",
       "      <td>8.1</td>\n",
       "      <td>114</td>\n",
       "      <td>Bonn</td>\n",
       "    </tr>\n",
       "    <tr>\n",
       "      <th>5</th>\n",
       "      <td>4c404d1ad7fad13a2bb505da</td>\n",
       "      <td>Bahnhöfchen Beuel</td>\n",
       "      <td>6.8</td>\n",
       "      <td>36</td>\n",
       "      <td>Bonn</td>\n",
       "    </tr>\n",
       "    <tr>\n",
       "      <th>6</th>\n",
       "      <td>4bdda32f0ee3a5937b052eb0</td>\n",
       "      <td>Bahnhöf'je</td>\n",
       "      <td>None</td>\n",
       "      <td>0</td>\n",
       "      <td>Bonn</td>\n",
       "    </tr>\n",
       "    <tr>\n",
       "      <th>7</th>\n",
       "      <td>4db16424a86e63d21169921b</td>\n",
       "      <td>Biergarten RheinAue</td>\n",
       "      <td>7.1</td>\n",
       "      <td>13</td>\n",
       "      <td>Bonn</td>\n",
       "    </tr>\n",
       "    <tr>\n",
       "      <th>8</th>\n",
       "      <td>4e0cd55fd4c07c82a2e0390b</td>\n",
       "      <td>Clementine</td>\n",
       "      <td>None</td>\n",
       "      <td>2</td>\n",
       "      <td>Bonn</td>\n",
       "    </tr>\n",
       "    <tr>\n",
       "      <th>9</th>\n",
       "      <td>4bd3741541b9ef3b2a3e00e6</td>\n",
       "      <td>Strandbar Bonn</td>\n",
       "      <td>8.4</td>\n",
       "      <td>16</td>\n",
       "      <td>Bonn</td>\n",
       "    </tr>\n",
       "    <tr>\n",
       "      <th>10</th>\n",
       "      <td>4bd9612a11dcc928fb92f933</td>\n",
       "      <td>Biergarten Schänzchen</td>\n",
       "      <td>7.8</td>\n",
       "      <td>22</td>\n",
       "      <td>Bonn</td>\n",
       "    </tr>\n",
       "    <tr>\n",
       "      <th>11</th>\n",
       "      <td>4bcb1c34cc8cd13ae1abbecf</td>\n",
       "      <td>Biergarten im Rheinhotel Dreesen</td>\n",
       "      <td>8.1</td>\n",
       "      <td>17</td>\n",
       "      <td>Bonn</td>\n",
       "    </tr>\n",
       "  </tbody>\n",
       "</table>\n",
       "</div>"
      ],
      "text/plain": [
       "                    venue_id                        venue_name rating  \\\n",
       "0   4f6dc7cde4b04cb29411986c         Rheinpavillon Blauer Affe    7.5   \n",
       "1   4c027155f423a593f3bece16                    Bundeshäuschen      8   \n",
       "2   4b531c70f964a520338f27e3                         Rheinlust    6.2   \n",
       "3   4db16424a86e63d21169921b               Biergarten RheinAue    7.1   \n",
       "4   4ba20691f964a5200ad737e3             Biergarten Alter Zoll    8.1   \n",
       "5   4c404d1ad7fad13a2bb505da                 Bahnhöfchen Beuel    6.8   \n",
       "6   4bdda32f0ee3a5937b052eb0                        Bahnhöf'je   None   \n",
       "7   4db16424a86e63d21169921b               Biergarten RheinAue    7.1   \n",
       "8   4e0cd55fd4c07c82a2e0390b                        Clementine   None   \n",
       "9   4bd3741541b9ef3b2a3e00e6                    Strandbar Bonn    8.4   \n",
       "10  4bd9612a11dcc928fb92f933             Biergarten Schänzchen    7.8   \n",
       "11  4bcb1c34cc8cd13ae1abbecf  Biergarten im Rheinhotel Dreesen    8.1   \n",
       "\n",
       "   likes_cnt  city  \n",
       "0         29  Bonn  \n",
       "1         12  Bonn  \n",
       "2         43  Bonn  \n",
       "3         13  Bonn  \n",
       "4        114  Bonn  \n",
       "5         36  Bonn  \n",
       "6          0  Bonn  \n",
       "7         13  Bonn  \n",
       "8          2  Bonn  \n",
       "9         16  Bonn  \n",
       "10        22  Bonn  \n",
       "11        17  Bonn  "
      ]
     },
     "execution_count": 18,
     "metadata": {},
     "output_type": "execute_result"
    }
   ],
   "source": [
    "c.review_df"
   ]
  },
  {
   "cell_type": "markdown",
   "metadata": {},
   "source": [
    "# Collect Foursquare data for top 20 cities"
   ]
  },
  {
   "cell_type": "code",
   "execution_count": 24,
   "metadata": {},
   "outputs": [],
   "source": [
    "import pandas as pd\n",
    "import os\n",
    "import sys\n",
    "sys.path.insert(0, os.path.abspath(os.environ['USERPROFILE'] + '/Desktop/my_pwd'))\n",
    "import foursquare_pwd"
   ]
  },
  {
   "cell_type": "code",
   "execution_count": 10,
   "metadata": {},
   "outputs": [],
   "source": [
    "fsqr_client_id = foursquare_pwd.client_id # your Foursquare ID\n",
    "fsqr_client_secret = foursquare_pwd.client_secret # your Foursquare Secret"
   ]
  },
  {
   "cell_type": "code",
   "execution_count": 19,
   "metadata": {},
   "outputs": [
    {
     "data": {
      "text/plain": [
       "<module 'openstreetmap.openstreetmap' from 'C:\\\\Git Repository\\\\Applied Data Science Capstone\\\\openstreetmap\\\\openstreetmap.py'>"
      ]
     },
     "execution_count": 19,
     "metadata": {},
     "output_type": "execute_result"
    }
   ],
   "source": [
    "from foursquare import foursquare as fsqr\n",
    "from openstreetmap import openstreetmap as osm\n",
    "import importlib\n",
    "importlib.reload(fsqr)\n",
    "importlib.reload(osm)"
   ]
  },
  {
   "cell_type": "markdown",
   "metadata": {},
   "source": [
    "## Test biergarten fetch for top 20 cities"
   ]
  },
  {
   "cell_type": "code",
   "execution_count": 20,
   "metadata": {},
   "outputs": [
    {
     "name": "stdout",
     "output_type": "stream",
     "text": [
      "Finding biergartens in Berlin...\n",
      "Number of biergartens in Berlin: 143\n",
      "Finding biergartens in Hamburg...\n",
      "Number of biergartens in Hamburg: 51\n",
      "Finding biergartens in Munich...\n",
      "Number of biergartens in Munich: 131\n",
      "Finding biergartens in Koln...\n",
      "Number of biergartens in Koln: 61\n",
      "Finding biergartens in Frankfurt am Main...\n",
      "Number of biergartens in Frankfurt am Main: 37\n",
      "Finding biergartens in Essen...\n",
      "Number of biergartens in Essen: 45\n",
      "Finding biergartens in Stuttgart...\n",
      "Number of biergartens in Stuttgart: 29\n",
      "Finding biergartens in Dortmund...\n",
      "Number of biergartens in Dortmund: 27\n",
      "Finding biergartens in Dusseldorf...\n",
      "Number of biergartens in Dusseldorf: 27\n",
      "Finding biergartens in Bremen...\n",
      "Number of biergartens in Bremen: 21\n",
      "Finding biergartens in Hannover...\n",
      "Number of biergartens in Hannover: 30\n",
      "Finding biergartens in Leipzig...\n",
      "Number of biergartens in Leipzig: 66\n",
      "Finding biergartens in Duisburg...\n",
      "Number of biergartens in Duisburg: 20\n",
      "Finding biergartens in Nurnberg...\n",
      "Number of biergartens in Nurnberg: 32\n",
      "Finding biergartens in Dresden...\n",
      "Number of biergartens in Dresden: 57\n",
      "Finding biergartens in Wandsbek...\n",
      "Number of biergartens in Wandsbek: 10\n",
      "Finding biergartens in Bochum...\n",
      "Number of biergartens in Bochum: 8\n",
      "Finding biergartens in Wuppertal...\n",
      "Number of biergartens in Wuppertal: 6\n",
      "Finding biergartens in Bielefeld...\n",
      "Number of biergartens in Bielefeld: 22\n",
      "Finding biergartens in Bonn...\n",
      "Number of biergartens in Bonn: 17\n"
     ]
    }
   ],
   "source": [
    "for city, city_code in zip(osm.top20_cities.keys(), osm.top20_cities.values()):\n",
    "    cls = osm.OpenStreetMap(city, city_code)\n",
    "    cls.get_biergartens_for_city()\n",
    "    print('Number of biergartens in ' + city + ': ' + str(cls.no_of_biergartens))\n",
    "    time.sleep(0.2)\n",
    "    "
   ]
  },
  {
   "cell_type": "code",
   "execution_count": 25,
   "metadata": {},
   "outputs": [
    {
     "name": "stdout",
     "output_type": "stream",
     "text": [
      "Finding biergartens in Berlin...\n",
      "Matching biergartens in Berlin to Foursquare venues...\n",
      "Fetching reviews for identified biergartens in Berlin...\n",
      "Finding biergartens in Hamburg...\n",
      "Matching biergartens in Hamburg to Foursquare venues...\n",
      "Fetching reviews for identified biergartens in Hamburg...\n",
      "Finding biergartens in Munich...\n",
      "Matching biergartens in Munich to Foursquare venues...\n",
      "Fetching reviews for identified biergartens in Munich...\n",
      "Finding biergartens in Koln...\n",
      "Matching biergartens in Koln to Foursquare venues...\n",
      "Fetching reviews for identified biergartens in Koln...\n",
      "Finding biergartens in Frankfurt am Main...\n",
      "Matching biergartens in Frankfurt am Main to Foursquare venues...\n",
      "Fetching reviews for identified biergartens in Frankfurt am Main...\n",
      "Finding biergartens in Essen...\n",
      "Matching biergartens in Essen to Foursquare venues...\n",
      "Fetching reviews for identified biergartens in Essen...\n",
      "Finding biergartens in Stuttgart...\n",
      "Matching biergartens in Stuttgart to Foursquare venues...\n",
      "Fetching reviews for identified biergartens in Stuttgart...\n",
      "Finding biergartens in Dortmund...\n",
      "Matching biergartens in Dortmund to Foursquare venues...\n",
      "Fetching reviews for identified biergartens in Dortmund...\n",
      "Finding biergartens in Dusseldorf...\n",
      "Matching biergartens in Dusseldorf to Foursquare venues...\n",
      "Fetching reviews for identified biergartens in Dusseldorf...\n",
      "Finding biergartens in Bremen...\n",
      "Matching biergartens in Bremen to Foursquare venues...\n",
      "Fetching reviews for identified biergartens in Bremen...\n",
      "Finding biergartens in Hannover...\n",
      "Matching biergartens in Hannover to Foursquare venues...\n",
      "Fetching reviews for identified biergartens in Hannover...\n",
      "Finding biergartens in Leipzig...\n",
      "Matching biergartens in Leipzig to Foursquare venues...\n",
      "Fetching reviews for identified biergartens in Leipzig...\n",
      "Finding biergartens in Duisburg...\n",
      "Matching biergartens in Duisburg to Foursquare venues...\n",
      "Fetching reviews for identified biergartens in Duisburg...\n",
      "Finding biergartens in Nurnberg...\n",
      "Matching biergartens in Nurnberg to Foursquare venues...\n",
      "Fetching reviews for identified biergartens in Nurnberg...\n",
      "Finding biergartens in Dresden...\n",
      "Matching biergartens in Dresden to Foursquare venues...\n",
      "Fetching reviews for identified biergartens in Dresden...\n",
      "Finding biergartens in Wandsbek...\n",
      "Matching biergartens in Wandsbek to Foursquare venues...\n",
      "Fetching reviews for identified biergartens in Wandsbek...\n",
      "Finding biergartens in Bochum...\n",
      "Matching biergartens in Bochum to Foursquare venues...\n",
      "Fetching reviews for identified biergartens in Bochum...\n",
      "Finding biergartens in Wuppertal...\n",
      "Matching biergartens in Wuppertal to Foursquare venues...\n",
      "Fetching reviews for identified biergartens in Wuppertal...\n",
      "Finding biergartens in Bielefeld...\n",
      "Matching biergartens in Bielefeld to Foursquare venues...\n",
      "Fetching reviews for identified biergartens in Bielefeld...\n",
      "Finding biergartens in Bonn...\n",
      "Matching biergartens in Bonn to Foursquare venues...\n",
      "Fetching reviews for identified biergartens in Bonn...\n"
     ]
    }
   ],
   "source": [
    "res_df = pd.DataFrame()\n",
    "\n",
    "# Loop through the 20 biggest cities in Germany\n",
    "for city, city_code in zip(osm.top20_cities.keys(), osm.top20_cities.values()):\n",
    "    \n",
    "    # Get biergartens for city from OpenStreetMap\n",
    "    osm_biergartens = osm.OpenStreetMap(city, city_code)\n",
    "    osm_biergartens.get_biergartens_for_city()\n",
    "    \n",
    "    # Match OpenStreetMap biergartens to Foursquare venues\n",
    "    venues = fsqr.Venues(fsqr_client_id, fsqr_client_secret)\n",
    "    venues.get_nearby_venues(osm_biergartens.df_biergartens['city'], osm_biergartens.df_biergartens['latitude'],osm_biergartens.df_biergartens['longitude'])\n",
    "    \n",
    "    # Get reviews for venues identified as biergarten\n",
    "    reviews = fsqr.Reviews(fsqr_client_id, fsqr_client_secret)\n",
    "    reviews.get_venue_review(venues.venue_df['City'], venues.venue_df['venue_id'])\n",
    "    \n",
    "    # Collect results to a single dataframe\n",
    "    res_df = res_df.append(reviews.review_df)\n",
    "    "
   ]
  },
  {
   "cell_type": "code",
   "execution_count": 26,
   "metadata": {},
   "outputs": [
    {
     "data": {
      "text/plain": [
       "(338, 5)"
      ]
     },
     "execution_count": 26,
     "metadata": {},
     "output_type": "execute_result"
    }
   ],
   "source": [
    "res_df.shape"
   ]
  },
  {
   "cell_type": "code",
   "execution_count": 27,
   "metadata": {},
   "outputs": [
    {
     "data": {
      "text/html": [
       "<div>\n",
       "<style scoped>\n",
       "    .dataframe tbody tr th:only-of-type {\n",
       "        vertical-align: middle;\n",
       "    }\n",
       "\n",
       "    .dataframe tbody tr th {\n",
       "        vertical-align: top;\n",
       "    }\n",
       "\n",
       "    .dataframe thead th {\n",
       "        text-align: right;\n",
       "    }\n",
       "</style>\n",
       "<table border=\"1\" class=\"dataframe\">\n",
       "  <thead>\n",
       "    <tr style=\"text-align: right;\">\n",
       "      <th></th>\n",
       "      <th>venue_id</th>\n",
       "      <th>venue_name</th>\n",
       "      <th>rating</th>\n",
       "      <th>likes_cnt</th>\n",
       "      <th>city</th>\n",
       "    </tr>\n",
       "  </thead>\n",
       "  <tbody>\n",
       "    <tr>\n",
       "      <th>0</th>\n",
       "      <td>53541e32498e5522be7a5eed</td>\n",
       "      <td>Jockel Biergarten</td>\n",
       "      <td>5.6</td>\n",
       "      <td>44</td>\n",
       "      <td>Berlin</td>\n",
       "    </tr>\n",
       "    <tr>\n",
       "      <th>1</th>\n",
       "      <td>4c20c6424889a593e9df2620</td>\n",
       "      <td>Haus Sanssouci</td>\n",
       "      <td>7.7</td>\n",
       "      <td>9</td>\n",
       "      <td>Berlin</td>\n",
       "    </tr>\n",
       "    <tr>\n",
       "      <th>2</th>\n",
       "      <td>4adcda73f964a520654521e3</td>\n",
       "      <td>Brauhaus Spandau</td>\n",
       "      <td>8.3</td>\n",
       "      <td>135</td>\n",
       "      <td>Berlin</td>\n",
       "    </tr>\n",
       "    <tr>\n",
       "      <th>3</th>\n",
       "      <td>4adcda77f964a520e14521e3</td>\n",
       "      <td>Schleusenkrug</td>\n",
       "      <td>8.5</td>\n",
       "      <td>497</td>\n",
       "      <td>Berlin</td>\n",
       "    </tr>\n",
       "    <tr>\n",
       "      <th>4</th>\n",
       "      <td>4adcda74f964a520674521e3</td>\n",
       "      <td>Alter Fritz</td>\n",
       "      <td>7.4</td>\n",
       "      <td>14</td>\n",
       "      <td>Berlin</td>\n",
       "    </tr>\n",
       "  </tbody>\n",
       "</table>\n",
       "</div>"
      ],
      "text/plain": [
       "                   venue_id         venue_name rating likes_cnt    city\n",
       "0  53541e32498e5522be7a5eed  Jockel Biergarten    5.6        44  Berlin\n",
       "1  4c20c6424889a593e9df2620     Haus Sanssouci    7.7         9  Berlin\n",
       "2  4adcda73f964a520654521e3   Brauhaus Spandau    8.3       135  Berlin\n",
       "3  4adcda77f964a520e14521e3      Schleusenkrug    8.5       497  Berlin\n",
       "4  4adcda74f964a520674521e3        Alter Fritz    7.4        14  Berlin"
      ]
     },
     "execution_count": 27,
     "metadata": {},
     "output_type": "execute_result"
    }
   ],
   "source": [
    "res_df.head()"
   ]
  },
  {
   "cell_type": "code",
   "execution_count": 28,
   "metadata": {},
   "outputs": [],
   "source": [
    "res_df.to_csv('Germany_biergartens.csv', sep=';', header=True, index=False)"
   ]
  },
  {
   "cell_type": "markdown",
   "metadata": {},
   "source": [
    "# Merging Eurostat Data to Biergartens"
   ]
  },
  {
   "cell_type": "code",
   "execution_count": null,
   "metadata": {},
   "outputs": [],
   "source": []
  },
  {
   "cell_type": "code",
   "execution_count": null,
   "metadata": {},
   "outputs": [],
   "source": []
  }
 ],
 "metadata": {
  "kernelspec": {
   "display_name": "Python (ads-capstone)",
   "language": "python",
   "name": "ads-capstone"
  },
  "language_info": {
   "codemirror_mode": {
    "name": "ipython",
    "version": 3
   },
   "file_extension": ".py",
   "mimetype": "text/x-python",
   "name": "python",
   "nbconvert_exporter": "python",
   "pygments_lexer": "ipython3",
   "version": "3.7.6"
  }
 },
 "nbformat": 4,
 "nbformat_minor": 4
}
