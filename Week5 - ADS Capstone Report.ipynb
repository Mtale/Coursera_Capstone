{
 "cells": [
  {
   "cell_type": "markdown",
   "metadata": {
    "Collapsed": "false"
   },
   "source": [
    "# Biergartens in Germany - Regional Differences"
   ]
  },
  {
   "cell_type": "markdown",
   "metadata": {
    "Collapsed": "false"
   },
   "source": [
    "## Introduction"
   ]
  },
  {
   "cell_type": "markdown",
   "metadata": {
    "Collapsed": "false"
   },
   "source": [
    "Bavaria, region at South-East Germany, is well known for it's beer culture. Bavarian purity law has stated since 1516 that beer is to be made of four ingredients: water, malt, hops and yeast. Munich, capital of Bavaria, is particularly well known for Oktoberfest which is celebrated elsewhere in Germany as well. Hence, if you are a traveler looking for once in a lifetime beer experience, you should probably attend Oktoberfest in Munich. But what if that's not possible? You may be traveling at different time of the year, or in another part of Germany. Where should you go? Obvious solution is to try out one, two or more biergartens, which can be found anywhere in Germany. \n",
    "\n",
    "This analysis attempts to determine where a traveler can get the best biergarten experience. The analysis will be conducted by asking the following questions and answering them by data analysis techniques.\n",
    "\n",
    "- Where can you find most biergartens?\n",
    "- Are biergartens equally popular in different regions?\n",
    "- Do biergarten reviews in Foursquare hint where to go to?\n",
    "- Does population structure or labour statistics explain density of biergartens?"
   ]
  },
  {
   "cell_type": "markdown",
   "metadata": {
    "Collapsed": "false"
   },
   "source": [
    "## Data"
   ]
  },
  {
   "cell_type": "markdown",
   "metadata": {
    "Collapsed": "false"
   },
   "source": [
    "Regional statistics of German population and society were fetched from [Eurostat City Statistics Database](https://ec.europa.eu/eurostat/web/cities/data/database).\n",
    "\n",
    "Locations of biergartens were got from OpenStreetMap where they are tagged. According to [OpenStreetMap Wiki](https://wiki.openstreetmap.org/wiki/Tag:amenity%3Dbiergarten) the tagging is very accurate since biergarten is distinquished from beer garden.\n",
    "\n",
    "[Foursquare API](https://developer.foursquare.com/docs/) was be used to fetch reviews of venues in categories *german pubs*, *bars* and *restaurants*. Biergartens were found by matching Foursquare venue location to OpenStreetMap location allowing radius of 25 meters."
   ]
  },
  {
   "cell_type": "markdown",
   "metadata": {
    "Collapsed": "false"
   },
   "source": [
    "# Methodology\n",
    "\n",
    "The analysis was conducted by comparing the 20 largest cities in Germany. the list of cities was obtained from [World Population Review website](https://worldpopulationreview.com/countries/germany-population/cities/).\n",
    "\n",
    "## Data Preparation\n",
    "\n",
    "Data collection was by far the most tedious task in the project due to multiple online sources previously unknown to the author. To enable easy and reproducible data collection, a python package was created to consistently query Eurostat, OpenStreetMap and Foursquare APIs. The package can be found in and installed from the [project Github repository](https://github.com/Mtale/Coursera_Capstone).\n",
    "\n",
    "Once the data collection package was complete, it was used to run the following process:\n",
    "\n",
    "1) Get all biergartens from OpenStreeMap\n",
    "\n",
    "2) Match OpenStreeMap biergartens to Foursquare venues by coordinates allowing 25 meters radius. This phase introduces some inaccuracy in the process due to different data types in OpenStreetMap: some large biergartens have been expressed as [ways](https://wiki.openstreetmap.org/wiki/Way) or [relations](https://wiki.openstreetmap.org/wiki/Relation) instead of [nodes](https://wiki.openstreetmap.org/wiki/Node). It's  possible some of the large biergartens have been dropped out from the analysis if center point of polygon (way or relation) is more than 25 meters off of coordinates of a Foursquare venue. Setting a radius is a matter of balancing: too large radius allows other *pubs* and *german restaurants* to enter the dataset if they are next door neighbors of the actual biergarten. The few venues having fit to the radius of a biergarten are included in the dataset.\n",
    "\n",
    "3) Get likes count and rating of each venue from foursquare\n",
    "\n",
    "At last, the biergarten data was merged to Eurostat data to create a single dataframe containing the data needed in the analysis. The data preparation phase was executed in the notebook [Data Preparation](https://github.com/Mtale/Coursera_Capstone/blob/master/Data%20Preparation.ipynb).\n",
    "\n",
    "## Exploratory Data Analysis\n",
    "\n",
    "Exploratory data analysis (EDA) was conducted to examine quality of the dataset created in the data preparation phase. During the analysis it turned out that large part of the data acquired from Eurostat was missing - most likely due to self-set requirement that the data should be at most 4 years old, from between 2016-2019. Out of 145 variables from Eurostat 41 were excluded from further analysis due to high number of missing values. \n",
    "\n",
    "In the end, 38 easy-to-understand, non-correlating variables describing population structure and labour market of each city were included in the analysis. Population variables and some labour market variables were already proportional, number of jobs in industry were scaled to number of jobs per 1,000 inhabitants.\n",
    "\n",
    "In the last phase of EDA the most recent observation of each variable for each city was included in tidy dataset where biergartens were on rows and variables on columns.\n",
    "\n",
    "EDA was executed in the notebook [Exploratory Data Analysis](https://github.com/Mtale/Coursera_Capstone/blob/master/EDA.ipynb).\n",
    "\n",
    "## Statistical Analysis\n",
    "\n",
    "The objective of statistical analysis was to answer the predefined questions:\n",
    "\n",
    "- Where can you find most biergartens?\n",
    "- Are biergartens equally popular in different regions?\n",
    "- Do biergarten reviews in Foursquare hint where to go to?\n",
    "- Does population structure or labour statistics explain density of biergartens?\n",
    "\n",
    "The questions were answered by appropriate plotting techniques and visual analysis. An attempt to explain biergarten density per 100,000 people was made by using linear regression. The regression model was run on the dataset where variables having high correlation were excluded to avoid multicollinearity thus enabling interpretation of results.\n",
    "\n",
    "The analysis was done in the notebook [Analysis](https://github.com/Mtale/Coursera_Capstone/blob/master/Analysis.ipynb).\n",
    "\n"
   ]
  },
  {
   "cell_type": "markdown",
   "metadata": {
    "Collapsed": "false"
   },
   "source": [
    "# Results\n",
    "\n",
    "## Number of biergartens in the 20 largest cities\n",
    "Let's start by having a look at where are the 20 largest cities in Germany. The following map shows their location. Color of marker depicts the number of biergartens the city hosts per 100,000 people."
   ]
  },
  {
   "cell_type": "code",
   "execution_count": 1,
   "metadata": {
    "Collapsed": "false"
   },
   "outputs": [],
   "source": [
    "import folium\n",
    "import numpy as np\n",
    "import pandas as pd\n",
    "import seaborn as sns\n",
    "\n",
    "from geopy.geocoders import Nominatim\n",
    "from matplotlib import pyplot as plt\n",
    "from scipy import stats\n",
    "from sklearn.linear_model import LinearRegression\n",
    "from sklearn.pipeline import Pipeline\n",
    "from sklearn.preprocessing import MinMaxScaler\n",
    "\n",
    "# Custom modules\n",
    "# We will use top_20_cities dictionary from here\n",
    "from openstreetmap import openstreetmap as osm "
   ]
  },
  {
   "cell_type": "code",
   "execution_count": 2,
   "metadata": {
    "Collapsed": "false"
   },
   "outputs": [],
   "source": [
    "# Read the data and sort it by total population\n",
    "data = pd.read_csv('tidy_data.csv', sep=';')\n",
    "data = data.sort_values(by='Population on the 1st of January, total', ascending=False).reset_index(drop=True)\n",
    "\n",
    "# Rename the total population column\n",
    "data.rename(columns={'Population on the 1st of January, total':'total_population'}, inplace=True)\n",
    "\n",
    "# Replace unicode characters due to rendering issue in Folium\n",
    "data = data.replace(to_replace={'ü':'u','ö':'o'}, regex=True)\n",
    "\n",
    "# Add ratings count per city to tidy data\n",
    "data['ratings_count'] = data.rating.notnull().groupby(data['city']).transform('sum').astype(int)\n",
    "\n",
    "# Add likes_count per city to tidy data\n",
    "data['likes_count'] = data.likes_cnt.groupby(data['city']).transform('sum').astype(int)\n",
    "\n",
    "# Count ratings to distinct dataframe\n",
    "data_counts = pd.DataFrame(data.rating.notnull().groupby(data['city'], sort=False).sum().astype(int).reset_index())\n",
    "data_counts = data_counts.merge(data[['city', 'total_population']], on='city') \\\n",
    "                .drop_duplicates() \\\n",
    "                .reset_index(drop=True)\n",
    "data_counts.columns = ['city', 'ratings_count', 'total_population']\n",
    "\n",
    "# Count likes to distinct dataframe\n",
    "likes_counts = pd.DataFrame(data.likes_cnt.groupby(data['city'], sort=False).sum().astype(int).reset_index())\n",
    "likes_counts.columns = ['city','likes_count']\n",
    "data_counts = data_counts.merge(likes_counts, on='city')\n",
    "\n",
    "# Count number of biergartens per city\n",
    "no_of_biergartens_city = pd.DataFrame(data.groupby('city', sort=False).count().venue_id).reset_index()\n",
    "no_of_biergartens_city.columns = ['city', 'biergarten_count']\n",
    "\n",
    "# Join to count data\n",
    "data_counts = data_counts.merge(no_of_biergartens_city, on='city')\n",
    "\n",
    "# Count no of biergartens per 100,000 people\n",
    "data_counts['biergarten_count_100k'] = data_counts['biergarten_count']/data_counts['total_population']*100000\n",
    "\n",
    "# Add rank variables to dataset\n",
    "data_counts['biergarten_rank'] = data_counts['biergarten_count'].rank()\n",
    "data_counts['biergarten_100k_rank'] = data_counts['biergarten_count_100k'].rank()"
   ]
  },
  {
   "cell_type": "code",
   "execution_count": 3,
   "metadata": {
    "Collapsed": "false"
   },
   "outputs": [],
   "source": [
    "# Get coordinates for Germany to center the map\n",
    "geolocator = Nominatim(user_agent=\"germany_explorer\")\n",
    "address = 'Germany'\n",
    "location = geolocator.geocode(address)\n",
    "germany_latitude = location.latitude\n",
    "germany_longitude = location.longitude\n",
    "\n",
    "# Create empty dataframe to store coordinates to\n",
    "germany_city_coordinates = pd.DataFrame()\n",
    "\n",
    "# Get coordinates for cities to be plotted\n",
    "geolocator = Nominatim(user_agent=\"germany_explorer\")\n",
    "for city in osm.top20_cities.keys():\n",
    "    address = city + ', Germany'\n",
    "    location = geolocator.geocode(address)\n",
    "    d = {\n",
    "    'city': city,\n",
    "    'latitude': location.latitude,\n",
    "    'longitude': location.longitude,\n",
    "    }\n",
    "    germany_city_coordinates = germany_city_coordinates.append(d, ignore_index=True)\n",
    "    \n",
    "# Replace unicode characters due to rendering issue in Folium and to match rest of the data\n",
    "germany_city_coordinates = germany_city_coordinates.replace(to_replace={'ü':'u','ö':'o'}, regex=True)\n",
    "\n",
    "# Join coordinates to counts data\n",
    "data_counts = data_counts.merge(germany_city_coordinates, on='city')\n",
    "\n",
    "# Join coordinates to venue data\n",
    "data = data.merge(germany_city_coordinates, on='city')"
   ]
  },
  {
   "cell_type": "code",
   "execution_count": 4,
   "metadata": {
    "Collapsed": "false"
   },
   "outputs": [
    {
     "data": {
      "text/html": [
       "<div style=\"width:100%;\"><div style=\"position:relative;width:100%;height:0;padding-bottom:60%;\"><iframe src=\"about:blank\" style=\"position:absolute;width:100%;height:100%;left:0;top:0;border:none !important;\" data-html=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 onload=\"this.contentDocument.open();this.contentDocument.write(atob(this.getAttribute('data-html')));this.contentDocument.close();\" allowfullscreen webkitallowfullscreen mozallowfullscreen></iframe></div></div>"
      ],
      "text/plain": [
       "<folium.folium.Map at 0x215b16b0188>"
      ]
     },
     "execution_count": 4,
     "metadata": {},
     "output_type": "execute_result"
    }
   ],
   "source": [
    "# Inititate map of Germany\n",
    "map_germany = folium.Map(location=[germany_latitude, germany_longitude], zoom_start=6)\n",
    "\n",
    "# Loop through data_counts\n",
    "for city, lat, lng, pop, cnt, cnt_100k, rank, rank_100k in zip(data_counts['city']\n",
    "                          , data_counts['latitude']\n",
    "                          , data_counts['longitude']\n",
    "                          , data_counts['total_population']\n",
    "                          , data_counts['biergarten_count']\n",
    "                          , data_counts['biergarten_count_100k']\n",
    "                          , data_counts['biergarten_rank']\n",
    "                          , data_counts['biergarten_100k_rank']):\n",
    "    \n",
    "    # Generate html to include data in popup\n",
    "    label = (\n",
    "            \"{city}<br>\"\n",
    "            \"Population: {pop}<br>\"\n",
    "            \"No of biergartens: {cnt}<br>\"\n",
    "            \"No of biergartens per 100,000 people: {cnt_100k}<br>\"\n",
    "           ).format(city=city.upper(),\n",
    "                    pop=str(int(pop)),\n",
    "                    cnt=str(int(cnt)),\n",
    "                    cnt_100k=str(round(cnt_100k, 1)),\n",
    "                    )\n",
    "    \n",
    "    # Set marker color based on the biergarten_count_100k\n",
    "    if cnt_100k > 5:\n",
    "        colour = 'darkpurple'\n",
    "    elif cnt_100k > 4:\n",
    "        colour = 'red'\n",
    "    elif cnt_100k > 3:\n",
    "        colour = 'orange'\n",
    "    elif cnt_100k > 2:\n",
    "        colour = 'pink'\n",
    "    else:\n",
    "        colour = 'lightgray'\n",
    "    \n",
    "    # Add marker\n",
    "    map_germany.add_child(folium.Marker(\n",
    "        location=[lat, lng],\n",
    "        popup=label,\n",
    "        icon=folium.Icon(\n",
    "            color=colour,\n",
    "            prefix='fa',\n",
    "            icon='circle')))\n",
    "\n",
    "# Create a legent to map\n",
    "legend_html = \"\"\"\n",
    "     <div style=\"position: fixed; bottom: 50px; left: 50px; width: 150px; height: 200px; \\\n",
    "     border:2px solid grey; z-index:9999; font-size:14px;\" >\n",
    "     &nbsp; No of biergartens <br>\n",
    "     &nbsp; per 100,000 people <br>\n",
    "     &nbsp; 5 + &nbsp; <i class=\"fa fa-map-marker fa-2x\"\n",
    "                  style=\"color:darkpurple\"></i><br>\n",
    "     &nbsp; 4-5 &nbsp; <i class=\"fa fa-map-marker fa-2x\"\n",
    "                  style=\"color:red\"></i><br>\n",
    "     &nbsp; 3-4 &nbsp; <i class=\"fa fa-map-marker fa-2x\"\n",
    "                  style=\"color:orange\"></i><br>\n",
    "     &nbsp; 2-3 &nbsp; <i class=\"fa fa-map-marker fa-2x\"\n",
    "                  style=\"color:pink\"></i><br>\n",
    "     &nbsp; 0-2 &nbsp; <i class=\"fa fa-map-marker fa-2x\"\n",
    "                  style=\"color:lightgray\"></i></div>\n",
    "     \"\"\"\n",
    "map_germany.get_root().html.add_child(folium.Element(legend_html))\n",
    "    \n",
    "# Show the map\n",
    "map_germany"
   ]
  },
  {
   "cell_type": "markdown",
   "metadata": {
    "Collapsed": "false"
   },
   "source": [
    "<br>\n",
    "Plotting the number of biergartens in city aside of number of biergartens per 100,000 people provides us with an overall view to the difference of biergarten density in cities. It's easy to see that Berlin has much scarcer density than many smaller cities whereas Leipzig is comparable to Munich and Dresden is comparable to Frankfurt. \n",
    "<br>\n",
    "<br>\n",
    "<img src=\"result_charts/biergarten_freq.png\">\n",
    "<br>\n",
    "Converting actual numbers to ranking often provides one with a clearer view to the phenomena. Such is it here: it's very easy to see that the two largest cities, Hamburg and Berlin, are way off the diagonal having lower than average biergarten density. Three smaller cities: Bielefeld, Mannheim and Bonn, seem to have high density even though they host relatively few biergartens.\n",
    "<br>\n",
    "<br>\n",
    "<img src=\"result_charts/biergarten_rank_scatter.png\">\n",
    "\n",
    "## Review of biergarten reviews in Foursquare\n",
    "\n",
    "Gut feeling says that lots of reviews may not be written by locals but tourists. The following chart of likes count in Foursquare doesn't prove the gut feeling but it shows that biergartens in the two most popular travel destinations, Berlin and Munich, have got eight times more likes than the venues in other cities. Hence, we gain no wisdom on biergarten popularity by looking at the likes.\n",
    "<br>\n",
    "<br>\n",
    "<img src=\"result_charts/likes_count.png\">\n",
    "<br>\n",
    "<br>\n",
    "How about ratings then? There must be differences between ratings in different cities. There are, yes. But number of rated biergartens is very small in many of the cities. Ratings median in Stuttgart is somewhat higher than other cities. Next in the chart, Dusseldorf, has the lowest median of all the 20 largest cities.\n",
    "<br>\n",
    "<br>\n",
    "<img src=\"result_charts/ratings_boxplot.png\">\n",
    "\n",
    "## Does population structure or economical activity explain density of biergartens?\n",
    "\n",
    "Yes, it does. Particularly when coupled with location of the city. \n",
    "\n",
    "To avoid multicollinearity and enable interpretation of regression coefficients, variables with correlation higher than 0.7 were excluded from the analysis. Intercept being 1.495 and R<sup>2</sup> = 0.85, the following chart allows us to draw some conclusions:\n",
    "\n",
    "- The southern the city, the higher the biergarten density per 100,000 people\n",
    "- The western the city, the higher the density\n",
    "- The higher the proportion of small children, the higher the density (note that proportion of small children correlates with proportion of adults on their 30s)\n",
    "- The higher the proportion of youg adults, the higher the density\n",
    "- The higher the proportion of women, the higher the density\n",
    "<br>\n",
    "<br>\n",
    "<img src=\"result_charts/regression_coef.png\">\n",
    "<br>\n",
    "<br>\n",
    "Regression plot of actual density and predicted density tells us that most of the predictions are amazingly accurate: only Hamburg and Essen are way off.\n",
    "<br>\n",
    "<br>\n",
    "<img src=\"result_charts/regression_plot.png\">"
   ]
  },
  {
   "cell_type": "markdown",
   "metadata": {
    "Collapsed": "false"
   },
   "source": [
    "# Discussion\n",
    "\n",
    "Results of the analysis are fascinating! It was a great surprise to author that biergarten density can be explained so well by using only simple, commonly available statistics. It would be interesting to apply the model to other German cities to see whether there's a threshold in city size where the model stops working. Many German cities are similar size: there are only 3 cities hosting more than a million inhabitants and 97 cities having population between 100,000 to 1 million. Hence, there is a chance that the model would work for smaller cities than the 20 largest.\n",
    "\n",
    "Motivation of the analysis was to learn where should one go to get a great biergarten experience if Munich is not an option. Based on the analysis, author's choice would be Leipzig, the only city having higher density of Biergartens than Munich. The 10 rated biergartens in Stuttgart are likely to be worth exploring, based on the high median rating and high third quartile rating. According to the Foursquare ratings, one should not go to Dusseldorf for biergartens.\n",
    "\n",
    "If you are after a good beer and are traveling anyway, it's safe to use this analysis as one of the inputs for destination selection. If you consider founding a biergarten in Germany, please don't use this analysis for decision making. Even though foundation for proper analysis is solid, more effort should be put to data processing, to matching biergartens found on openStreetMap to venues in Foursquare. Probably you would be better off with Foursquare data only as such business decision must be based on competition brought by other types of restaurants, bars and pubs, not only other biergartens."
   ]
  },
  {
   "cell_type": "markdown",
   "metadata": {
    "Collapsed": "false"
   },
   "source": [
    "# Conclusion\n",
    "\n",
    "Working with GIS data can be a tedious task for a newcomer. Various data types and their relations take time to grasp - mastering them was not in the scope of this analysis. Hence, the results of the analysis are advisory, not conclusive. Doing the analysis was a great learning experience enabling author to gain rudimentary understanding of GIS data and to spark greater respect for masters of the field.\n",
    "\n",
    "The advisory results are very interesting, though. There are big diffences in biergarten density between the 20 largest cities in Germany taking Leipzig and Stuttgart closer to the top of traveling destinations for the author. "
   ]
  }
 ],
 "metadata": {
  "kernelspec": {
   "display_name": "Python (ads-capstone)",
   "language": "python",
   "name": "ads-capstone"
  },
  "language_info": {
   "codemirror_mode": {
    "name": "ipython",
    "version": 3
   },
   "file_extension": ".py",
   "mimetype": "text/x-python",
   "name": "python",
   "nbconvert_exporter": "python",
   "pygments_lexer": "ipython3",
   "version": "3.7.6"
  }
 },
 "nbformat": 4,
 "nbformat_minor": 4
}
