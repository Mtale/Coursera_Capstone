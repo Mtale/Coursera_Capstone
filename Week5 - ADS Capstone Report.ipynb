{
 "cells": [
  {
   "cell_type": "markdown",
   "metadata": {
    "Collapsed": "false"
   },
   "source": [
    "# Biergartens in Germany - Regional Differences"
   ]
  },
  {
   "cell_type": "markdown",
   "metadata": {
    "Collapsed": "false"
   },
   "source": [
    "## Introduction"
   ]
  },
  {
   "cell_type": "markdown",
   "metadata": {
    "Collapsed": "false"
   },
   "source": [
    "Bavaria, region at South-East Germany, is well known for it's beer culture. Bavarian purity law has stated since 1516 that beer is to be made of four ingredients: water, malt, hops and yeast. Munich, capital of Bavaria, is particularly well known for Oktoberfest which is celebrated elsewhere in Germany as well. Hence, if you are a traveler looking for once in a lifetime beer experience, you should probably attend Oktoberfest in Munich. But what if that's not possible? You may be traveling at different time of the year, or in another part of Germany. Where should you go? Obvious solution is to try out one, two or more biergartens, which can be found anywhere in Germany. \n",
    "\n",
    "This analysis attempts to determine where a traveler can get the best biergarten experience. The analysis will be conducted by asking the following questions and answering them by modern data analysis techniques.\n",
    "\n",
    "- Where can you find most biergartens?\n",
    "- Are biergartens equally popular in different regions?\n",
    "- Do biergarten reviews hint where to go to?\n",
    "- Does population structure explain popularity of biergartens?\n",
    "- Does local living standard explain biergarten density in region?"
   ]
  },
  {
   "cell_type": "markdown",
   "metadata": {
    "Collapsed": "false"
   },
   "source": [
    "## Data"
   ]
  },
  {
   "cell_type": "markdown",
   "metadata": {
    "Collapsed": "false"
   },
   "source": [
    "Regional statistics of German population and society will be fetched from Eurostat City Statistics Database.\n",
    "\n",
    "https://ec.europa.eu/eurostat/web/cities/data/database\n",
    "\n",
    "Locations of biergartens will be got from OpenStreetMap where they are tagged. According to OpenStreetMap Wiki the tagging is very accurate since biergarten is distinquished from beer garden.\n",
    "\n",
    "https://wiki.openstreetmap.org/wiki/Tag:amenity%3Dbiergarten\n",
    "\n",
    "Foursquare API will be used to fetch reviews of german pubs, bars and restaurants. Biergartens will be found my matching Foursquare data to OpenStreetMap data thus enabling the extraction of biergarten reviews."
   ]
  },
  {
   "cell_type": "markdown",
   "metadata": {
    "Collapsed": "false"
   },
   "source": [
    "# Methodology"
   ]
  },
  {
   "cell_type": "code",
   "execution_count": null,
   "metadata": {
    "Collapsed": "false"
   },
   "outputs": [],
   "source": []
  },
  {
   "cell_type": "markdown",
   "metadata": {
    "Collapsed": "false"
   },
   "source": [
    "# Results"
   ]
  },
  {
   "cell_type": "code",
   "execution_count": null,
   "metadata": {
    "Collapsed": "false"
   },
   "outputs": [],
   "source": []
  },
  {
   "cell_type": "markdown",
   "metadata": {
    "Collapsed": "false"
   },
   "source": [
    "# Discussion"
   ]
  },
  {
   "cell_type": "code",
   "execution_count": null,
   "metadata": {
    "Collapsed": "false"
   },
   "outputs": [],
   "source": []
  },
  {
   "cell_type": "markdown",
   "metadata": {
    "Collapsed": "false"
   },
   "source": [
    "# Conclusion"
   ]
  },
  {
   "cell_type": "code",
   "execution_count": null,
   "metadata": {
    "Collapsed": "false"
   },
   "outputs": [],
   "source": []
  }
 ],
 "metadata": {
  "kernelspec": {
   "display_name": "Python (ads-capstone)",
   "language": "python",
   "name": "ads-capstone"
  },
  "language_info": {
   "codemirror_mode": {
    "name": "ipython",
    "version": 3
   },
   "file_extension": ".py",
   "mimetype": "text/x-python",
   "name": "python",
   "nbconvert_exporter": "python",
   "pygments_lexer": "ipython3",
   "version": "3.7.6"
  }
 },
 "nbformat": 4,
 "nbformat_minor": 4
}
