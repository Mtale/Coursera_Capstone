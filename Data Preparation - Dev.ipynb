{
 "cells": [
  {
   "cell_type": "markdown",
   "metadata": {},
   "source": [
    "# Eurostat"
   ]
  },
  {
   "cell_type": "code",
   "execution_count": 1,
   "metadata": {},
   "outputs": [],
   "source": [
    "from eurostat import germany"
   ]
  },
  {
   "cell_type": "code",
   "execution_count": 2,
   "metadata": {},
   "outputs": [],
   "source": [
    "g = germany.Germany()"
   ]
  },
  {
   "cell_type": "code",
   "execution_count": 3,
   "metadata": {
    "scrolled": true
   },
   "outputs": [
    {
     "data": {
      "text/plain": [
       "['DE001C1',\n",
       " 'DE002C1',\n",
       " 'DE003C1',\n",
       " 'DE004C1',\n",
       " 'DE005C1',\n",
       " 'DE006C1',\n",
       " 'DE007C1',\n",
       " 'DE008C1',\n",
       " 'DE009C1',\n",
       " 'DE010C1',\n",
       " 'DE011C1',\n",
       " 'DE012C1',\n",
       " 'DE013C1',\n",
       " 'DE014C1',\n",
       " 'DE015C1',\n",
       " 'DE017C1',\n",
       " 'DE018C1',\n",
       " 'DE019C1',\n",
       " 'DE020C1',\n",
       " 'DE021C1',\n",
       " 'DE022C1',\n",
       " 'DE023C1',\n",
       " 'DE025C1',\n",
       " 'DE026C1',\n",
       " 'DE027C1',\n",
       " 'DE028C1',\n",
       " 'DE029C1',\n",
       " 'DE030C1',\n",
       " 'DE031C1',\n",
       " 'DE032C1',\n",
       " 'DE033C1',\n",
       " 'DE034C1',\n",
       " 'DE035C1',\n",
       " 'DE036C1',\n",
       " 'DE037C1',\n",
       " 'DE039C1',\n",
       " 'DE040C1',\n",
       " 'DE041C1',\n",
       " 'DE042C1',\n",
       " 'DE043C1',\n",
       " 'DE044C1',\n",
       " 'DE045C1',\n",
       " 'DE046C1',\n",
       " 'DE047C1',\n",
       " 'DE048C1',\n",
       " 'DE049C1',\n",
       " 'DE050C1',\n",
       " 'DE051C1',\n",
       " 'DE052C1',\n",
       " 'DE053C1',\n",
       " 'DE054C1',\n",
       " 'DE055C1',\n",
       " 'DE056C1',\n",
       " 'DE057C1',\n",
       " 'DE058C1',\n",
       " 'DE059C1',\n",
       " 'DE060C1',\n",
       " 'DE061C1',\n",
       " 'DE062C1',\n",
       " 'DE063C1',\n",
       " 'DE064C1',\n",
       " 'DE065C1',\n",
       " 'DE066C1',\n",
       " 'DE067C1',\n",
       " 'DE068C1',\n",
       " 'DE069C1',\n",
       " 'DE070C1',\n",
       " 'DE071C1',\n",
       " 'DE072C1',\n",
       " 'DE073C1',\n",
       " 'DE074C1',\n",
       " 'DE075C1',\n",
       " 'DE076C1',\n",
       " 'DE077C1',\n",
       " 'DE078C1',\n",
       " 'DE079C1',\n",
       " 'DE080C1',\n",
       " 'DE081C1',\n",
       " 'DE082C1',\n",
       " 'DE501C1',\n",
       " 'DE502C1',\n",
       " 'DE503C1',\n",
       " 'DE504C1',\n",
       " 'DE505C1',\n",
       " 'DE506C1',\n",
       " 'DE507C1',\n",
       " 'DE508C1',\n",
       " 'DE509C1',\n",
       " 'DE510C1',\n",
       " 'DE511C1',\n",
       " 'DE513C1',\n",
       " 'DE514C1',\n",
       " 'DE515C1',\n",
       " 'DE516C1',\n",
       " 'DE517C1',\n",
       " 'DE518C1',\n",
       " 'DE519C1',\n",
       " 'DE520C1',\n",
       " 'DE521C1',\n",
       " 'DE522C1',\n",
       " 'DE523C1',\n",
       " 'DE524C1',\n",
       " 'DE525C1',\n",
       " 'DE526C1',\n",
       " 'DE527C1',\n",
       " 'DE528C1',\n",
       " 'DE529C1',\n",
       " 'DE530C1',\n",
       " 'DE531C1',\n",
       " 'DE532C1',\n",
       " 'DE533C1',\n",
       " 'DE534C1',\n",
       " 'DE535C1',\n",
       " 'DE536C1',\n",
       " 'DE537C1',\n",
       " 'DE538C1',\n",
       " 'DE539C1',\n",
       " 'DE540C1',\n",
       " 'DE541C1',\n",
       " 'DE542C1',\n",
       " 'DE543C1',\n",
       " 'DE544C1',\n",
       " 'DE545C1',\n",
       " 'DE546C1',\n",
       " 'DE547C1',\n",
       " 'DE548C1',\n",
       " 'DE549C1']"
      ]
     },
     "execution_count": 3,
     "metadata": {},
     "output_type": "execute_result"
    }
   ],
   "source": [
    "g.german_cities"
   ]
  },
  {
   "cell_type": "code",
   "execution_count": 4,
   "metadata": {},
   "outputs": [
    {
     "name": "stdout",
     "output_type": "stream",
     "text": [
      "&cities=DE001C1&cities=DE002C1&cities=DE003C1&cities=DE004C1&cities=DE005C1&cities=DE006C1&cities=DE007C1&cities=DE008C1&cities=DE009C1&cities=DE010C1&cities=DE011C1&cities=DE012C1&cities=DE013C1&cities=DE014C1&cities=DE015C1&cities=DE017C1&cities=DE018C1&cities=DE019C1&cities=DE020C1&cities=DE021C1&cities=DE022C1&cities=DE023C1&cities=DE025C1&cities=DE026C1&cities=DE027C1&cities=DE028C1&cities=DE029C1&cities=DE030C1&cities=DE031C1&cities=DE032C1&cities=DE033C1&cities=DE034C1&cities=DE035C1&cities=DE036C1&cities=DE037C1&cities=DE039C1&cities=DE040C1&cities=DE041C1&cities=DE042C1&cities=DE043C1&cities=DE044C1&cities=DE045C1&cities=DE046C1&cities=DE047C1&cities=DE048C1&cities=DE049C1&cities=DE050C1&cities=DE051C1&cities=DE052C1&cities=DE053C1&cities=DE054C1&cities=DE055C1&cities=DE056C1&cities=DE057C1&cities=DE058C1&cities=DE059C1&cities=DE060C1&cities=DE061C1&cities=DE062C1&cities=DE063C1&cities=DE064C1&cities=DE065C1&cities=DE066C1&cities=DE067C1&cities=DE068C1&cities=DE069C1&cities=DE070C1&cities=DE071C1&cities=DE072C1&cities=DE073C1&cities=DE074C1&cities=DE075C1&cities=DE076C1&cities=DE077C1&cities=DE078C1&cities=DE079C1&cities=DE080C1&cities=DE081C1&cities=DE082C1&cities=DE501C1&cities=DE502C1&cities=DE503C1&cities=DE504C1&cities=DE505C1&cities=DE506C1&cities=DE507C1&cities=DE508C1&cities=DE509C1&cities=DE510C1&cities=DE511C1&cities=DE513C1&cities=DE514C1&cities=DE515C1&cities=DE516C1&cities=DE517C1&cities=DE518C1&cities=DE519C1&cities=DE520C1&cities=DE521C1&cities=DE522C1&cities=DE523C1&cities=DE524C1&cities=DE525C1&cities=DE526C1&cities=DE527C1&cities=DE528C1&cities=DE529C1&cities=DE530C1&cities=DE531C1&cities=DE532C1&cities=DE533C1&cities=DE534C1&cities=DE535C1&cities=DE536C1&cities=DE537C1&cities=DE538C1&cities=DE539C1&cities=DE540C1&cities=DE541C1&cities=DE542C1&cities=DE543C1&cities=DE544C1&cities=DE545C1&cities=DE546C1&cities=DE547C1&cities=DE548C1&cities=DE549C1\n"
     ]
    }
   ],
   "source": [
    "# Learn to create a long string using list comprehension for city codes\n",
    "print(''.join(f'&cities={code}' for code in g.german_cities))"
   ]
  },
  {
   "cell_type": "code",
   "execution_count": 5,
   "metadata": {},
   "outputs": [
    {
     "name": "stdout",
     "output_type": "stream",
     "text": [
      "&time=2016&time=2017&time=2018&time=2019\n"
     ]
    }
   ],
   "source": [
    "# Learn to create a long string using list comprehension for time  codes\n",
    "year_list = [2016,2017,2018,2019]\n",
    "print(''.join(f'&time={y}' for y in year_list))"
   ]
  },
  {
   "cell_type": "markdown",
   "metadata": {},
   "source": [
    "## Test API call"
   ]
  },
  {
   "cell_type": "code",
   "execution_count": 6,
   "metadata": {},
   "outputs": [],
   "source": [
    "# Create class instance\n",
    "c = germany.Population_by_age_groups_and_sex()"
   ]
  },
  {
   "cell_type": "code",
   "execution_count": 7,
   "metadata": {},
   "outputs": [
    {
     "data": {
      "text/plain": [
       "'http://ec.europa.eu/eurostat/wdds/rest/data/v2.1/json/en/urb_cpop1?&time=2016&time=2017&time=2018&time=2019&cities=DE001C1&cities=DE002C1&cities=DE003C1&cities=DE004C1&cities=DE005C1&cities=DE006C1&cities=DE007C1&cities=DE008C1&cities=DE009C1&cities=DE010C1&cities=DE011C1&cities=DE012C1&cities=DE013C1&cities=DE014C1&cities=DE015C1&cities=DE017C1&cities=DE018C1&cities=DE019C1&cities=DE020C1&cities=DE021C1&cities=DE022C1&cities=DE023C1&cities=DE025C1&cities=DE026C1&cities=DE027C1&cities=DE028C1&cities=DE029C1&cities=DE030C1&cities=DE031C1&cities=DE032C1&cities=DE033C1&cities=DE034C1&cities=DE035C1&cities=DE036C1&cities=DE037C1&cities=DE039C1&cities=DE040C1&cities=DE041C1&cities=DE042C1&cities=DE043C1&cities=DE044C1&cities=DE045C1&cities=DE046C1&cities=DE047C1&cities=DE048C1&cities=DE049C1&cities=DE050C1&cities=DE051C1&cities=DE052C1&cities=DE053C1&cities=DE054C1&cities=DE055C1&cities=DE056C1&cities=DE057C1&cities=DE058C1&cities=DE059C1&cities=DE060C1&cities=DE061C1&cities=DE062C1&cities=DE063C1&cities=DE064C1&cities=DE065C1&cities=DE066C1&cities=DE067C1&cities=DE068C1&cities=DE069C1&cities=DE070C1&cities=DE071C1&cities=DE072C1&cities=DE073C1&cities=DE074C1&cities=DE075C1&cities=DE076C1&cities=DE077C1&cities=DE078C1&cities=DE079C1&cities=DE080C1&cities=DE081C1&cities=DE082C1&cities=DE501C1&cities=DE502C1&cities=DE503C1&cities=DE504C1&cities=DE505C1&cities=DE506C1&cities=DE507C1&cities=DE508C1&cities=DE509C1&cities=DE510C1&cities=DE511C1&cities=DE513C1&cities=DE514C1&cities=DE515C1&cities=DE516C1&cities=DE517C1&cities=DE518C1&cities=DE519C1&cities=DE520C1&cities=DE521C1&cities=DE522C1&cities=DE523C1&cities=DE524C1&cities=DE525C1&cities=DE526C1&cities=DE527C1&cities=DE528C1&cities=DE529C1&cities=DE530C1&cities=DE531C1&cities=DE532C1&cities=DE533C1&cities=DE534C1&cities=DE535C1&cities=DE536C1&cities=DE537C1&cities=DE538C1&cities=DE539C1&cities=DE540C1&cities=DE541C1&cities=DE542C1&cities=DE543C1&cities=DE544C1&cities=DE545C1&cities=DE546C1&cities=DE547C1&cities=DE548C1&cities=DE549C11'"
      ]
     },
     "execution_count": 7,
     "metadata": {},
     "output_type": "execute_result"
    }
   ],
   "source": [
    "# Confirm the query looks correct\n",
    "c.api_query"
   ]
  },
  {
   "cell_type": "code",
   "execution_count": 9,
   "metadata": {},
   "outputs": [
    {
     "data": {
      "text/plain": [
       "NoneType"
      ]
     },
     "execution_count": 9,
     "metadata": {},
     "output_type": "execute_result"
    }
   ],
   "source": [
    "# Check the type of response status -- NoneType is desired outcome\n",
    "type(c.api_response_status)"
   ]
  },
  {
   "cell_type": "code",
   "execution_count": 10,
   "metadata": {},
   "outputs": [
    {
     "data": {
      "text/html": [
       "<div>\n",
       "<style scoped>\n",
       "    .dataframe tbody tr th:only-of-type {\n",
       "        vertical-align: middle;\n",
       "    }\n",
       "\n",
       "    .dataframe tbody tr th {\n",
       "        vertical-align: top;\n",
       "    }\n",
       "\n",
       "    .dataframe thead th {\n",
       "        text-align: right;\n",
       "    }\n",
       "</style>\n",
       "<table border=\"1\" class=\"dataframe\">\n",
       "  <thead>\n",
       "    <tr style=\"text-align: right;\">\n",
       "      <th></th>\n",
       "      <th>indic_ur</th>\n",
       "      <th>cities</th>\n",
       "      <th>time</th>\n",
       "      <th>value</th>\n",
       "    </tr>\n",
       "  </thead>\n",
       "  <tbody>\n",
       "    <tr>\n",
       "      <th>0</th>\n",
       "      <td>Population on the 1st of January, total</td>\n",
       "      <td>Berlin</td>\n",
       "      <td>2016</td>\n",
       "      <td>3520031.0</td>\n",
       "    </tr>\n",
       "    <tr>\n",
       "      <th>1</th>\n",
       "      <td>Population on the 1st of January, total</td>\n",
       "      <td>Berlin</td>\n",
       "      <td>2017</td>\n",
       "      <td>3574830.0</td>\n",
       "    </tr>\n",
       "    <tr>\n",
       "      <th>2</th>\n",
       "      <td>Population on the 1st of January, total</td>\n",
       "      <td>Berlin</td>\n",
       "      <td>2018</td>\n",
       "      <td>3613495.0</td>\n",
       "    </tr>\n",
       "    <tr>\n",
       "      <th>3</th>\n",
       "      <td>Population on the 1st of January, total</td>\n",
       "      <td>Berlin</td>\n",
       "      <td>2019</td>\n",
       "      <td>NaN</td>\n",
       "    </tr>\n",
       "    <tr>\n",
       "      <th>4</th>\n",
       "      <td>Population on the 1st of January, total</td>\n",
       "      <td>Hamburg</td>\n",
       "      <td>2016</td>\n",
       "      <td>1787408.0</td>\n",
       "    </tr>\n",
       "    <tr>\n",
       "      <th>...</th>\n",
       "      <td>...</td>\n",
       "      <td>...</td>\n",
       "      <td>...</td>\n",
       "      <td>...</td>\n",
       "    </tr>\n",
       "    <tr>\n",
       "      <th>18139</th>\n",
       "      <td>Population on the 1st of January, 10-14 years,...</td>\n",
       "      <td>Jena</td>\n",
       "      <td>2019</td>\n",
       "      <td>NaN</td>\n",
       "    </tr>\n",
       "    <tr>\n",
       "      <th>18140</th>\n",
       "      <td>Population on the 1st of January, 10-14 years,...</td>\n",
       "      <td>Düren, Stadt</td>\n",
       "      <td>2016</td>\n",
       "      <td>NaN</td>\n",
       "    </tr>\n",
       "    <tr>\n",
       "      <th>18141</th>\n",
       "      <td>Population on the 1st of January, 10-14 years,...</td>\n",
       "      <td>Düren, Stadt</td>\n",
       "      <td>2017</td>\n",
       "      <td>2146.0</td>\n",
       "    </tr>\n",
       "    <tr>\n",
       "      <th>18142</th>\n",
       "      <td>Population on the 1st of January, 10-14 years,...</td>\n",
       "      <td>Düren, Stadt</td>\n",
       "      <td>2018</td>\n",
       "      <td>2152.0</td>\n",
       "    </tr>\n",
       "    <tr>\n",
       "      <th>18143</th>\n",
       "      <td>Population on the 1st of January, 10-14 years,...</td>\n",
       "      <td>Düren, Stadt</td>\n",
       "      <td>2019</td>\n",
       "      <td>NaN</td>\n",
       "    </tr>\n",
       "  </tbody>\n",
       "</table>\n",
       "<p>18144 rows × 4 columns</p>\n",
       "</div>"
      ],
      "text/plain": [
       "                                                indic_ur        cities  time  \\\n",
       "0                Population on the 1st of January, total        Berlin  2016   \n",
       "1                Population on the 1st of January, total        Berlin  2017   \n",
       "2                Population on the 1st of January, total        Berlin  2018   \n",
       "3                Population on the 1st of January, total        Berlin  2019   \n",
       "4                Population on the 1st of January, total       Hamburg  2016   \n",
       "...                                                  ...           ...   ...   \n",
       "18139  Population on the 1st of January, 10-14 years,...          Jena  2019   \n",
       "18140  Population on the 1st of January, 10-14 years,...  Düren, Stadt  2016   \n",
       "18141  Population on the 1st of January, 10-14 years,...  Düren, Stadt  2017   \n",
       "18142  Population on the 1st of January, 10-14 years,...  Düren, Stadt  2018   \n",
       "18143  Population on the 1st of January, 10-14 years,...  Düren, Stadt  2019   \n",
       "\n",
       "           value  \n",
       "0      3520031.0  \n",
       "1      3574830.0  \n",
       "2      3613495.0  \n",
       "3            NaN  \n",
       "4      1787408.0  \n",
       "...          ...  \n",
       "18139        NaN  \n",
       "18140        NaN  \n",
       "18141     2146.0  \n",
       "18142     2152.0  \n",
       "18143        NaN  \n",
       "\n",
       "[18144 rows x 4 columns]"
      ]
     },
     "execution_count": 10,
     "metadata": {},
     "output_type": "execute_result"
    }
   ],
   "source": [
    "# Have a look at the resulting dataframe\n",
    "c.api_query_result"
   ]
  },
  {
   "cell_type": "code",
   "execution_count": null,
   "metadata": {},
   "outputs": [],
   "source": []
  }
 ],
 "metadata": {
  "kernelspec": {
   "display_name": "Python (ads-capstone)",
   "language": "python",
   "name": "ads-capstone"
  },
  "language_info": {
   "codemirror_mode": {
    "name": "ipython",
    "version": 3
   },
   "file_extension": ".py",
   "mimetype": "text/x-python",
   "name": "python",
   "nbconvert_exporter": "python",
   "pygments_lexer": "ipython3",
   "version": "3.7.6"
  }
 },
 "nbformat": 4,
 "nbformat_minor": 4
}
